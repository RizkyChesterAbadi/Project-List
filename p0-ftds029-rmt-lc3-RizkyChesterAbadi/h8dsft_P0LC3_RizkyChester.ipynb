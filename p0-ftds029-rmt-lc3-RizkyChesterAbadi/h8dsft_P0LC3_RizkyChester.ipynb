{
  "nbformat": 4,
  "nbformat_minor": 0,
  "metadata": {
    "colab": {
      "provenance": []
    },
    "kernelspec": {
      "name": "python3",
      "display_name": "Python 3"
    },
    "language_info": {
      "name": "python"
    }
  },
  "cells": [
    {
      "cell_type": "markdown",
      "source": [
        "# Live Code 3\n",
        "Nama    : Rizky Chester Abadi\n",
        "\n",
        "Batch   : RMT-029\n",
        "\n",
        "Program ini dibuat untuk menganalisis data dari bigquery dan melakukan perhitungan seperti mencari central tendency, cek skewnes dan akhirnya akan diconvert dalam file .csv"
      ],
      "metadata": {
        "id": "aqA-4FE7Uz_P"
      }
    },
    {
      "cell_type": "code",
      "execution_count": 20,
      "metadata": {
        "colab": {
          "base_uri": "https://localhost:8080/"
        },
        "id": "MSej7oK_Ux8W",
        "outputId": "e39e612a-b95e-43b1-be71-4c054178b452"
      },
      "outputs": [
        {
          "output_type": "stream",
          "name": "stdout",
          "text": [
            "Authenticated\n"
          ]
        }
      ],
      "source": [
        "from google.colab import auth\n",
        "from google.cloud import bigquery\n",
        "import pandas as pd\n",
        "auth.authenticate_user()\n",
        "print('Authenticated')\n",
        "\n",
        "project_id = \"caramel-feat-415109\"\n",
        "client = bigquery.Client(project=project_id)\n"
      ]
    },
    {
      "cell_type": "markdown",
      "source": [
        "Membuat koneksi dengan data dari Bigquery yang diambil datanya"
      ],
      "metadata": {
        "id": "R5ruk0DZVBlS"
      }
    },
    {
      "cell_type": "code",
      "source": [
        "from scipy import stats\n",
        "import matplotlib.pyplot as plt\n",
        "import seaborn as sns"
      ],
      "metadata": {
        "id": "uoj-wYtZgxIh"
      },
      "execution_count": 31,
      "outputs": []
    },
    {
      "cell_type": "markdown",
      "source": [
        "Mengimport ekstensi tambahan untuk melakukan analisa"
      ],
      "metadata": {
        "id": "1-66ufQBgzi5"
      }
    },
    {
      "cell_type": "code",
      "source": [
        "query =\"\"\"\n",
        "SELECT *\n",
        "FROM `bigquery-public-data.iowa_liquor_sales.sales`\n",
        "LIMIT 5000\n",
        "\"\"\"\n",
        "\n",
        "# Set up the query\n",
        "df1 = client.query(query).to_dataframe()\n",
        "df1"
      ],
      "metadata": {
        "colab": {
          "base_uri": "https://localhost:8080/",
          "height": 1000
        },
        "id": "t0KIRtqZVIt3",
        "outputId": "9232f935-bc8c-425f-a8da-a84430ff1298"
      },
      "execution_count": 22,
      "outputs": [
        {
          "output_type": "execute_result",
          "data": {
            "text/plain": [
              "     invoice_and_item_number        date store_number  \\\n",
              "0            INV-23023600076  2019-11-05         3723   \n",
              "1            INV-35063300013  2021-03-16         3723   \n",
              "2            INV-43494000008  2022-01-03         5102   \n",
              "3            INV-57342400001  2023-04-07         5724   \n",
              "4            INV-57413500001  2023-04-11         6019   \n",
              "...                      ...         ...          ...   \n",
              "4995         INV-22450200019  2019-10-10         2515   \n",
              "4996         INV-47572400168  2022-05-18         2629   \n",
              "4997         INV-43760400008  2022-01-13         4656   \n",
              "4998         INV-45880700038  2022-03-24         2691   \n",
              "4999         INV-58038100097  2023-05-02         2573   \n",
              "\n",
              "                                 store_name                address  \\\n",
              "0                        J D SPIRITS LIQUOR           1023  9TH ST   \n",
              "1                        J D SPIRITS LIQUOR           1023  9TH ST   \n",
              "2                            WILKIE LIQUORS        724 1ST  ST  SE   \n",
              "3               CASEY'S GENERAL STORE #3772  105 SOUTH 18TH STREET   \n",
              "4      CASEY'S GENERAL STORE #3888 / ANKENY          1024 E 1ST ST   \n",
              "...                                     ...                    ...   \n",
              "4995      HY-VEE FOOD STORE #1 / MASON CITY         2400 4TH ST SW   \n",
              "4996  HY-VEE FOOD STORE #2 / COUNCIL BLUFFS       1745 MADISON AVE   \n",
              "4997     CASEY'S GENERAL STORE #2301 / AMES           17005 HWY 69   \n",
              "4998       HY-VEE FAST & FRESH - DES MOINES      5801 HICKMAN ROAD   \n",
              "4999          HY-VEE FOOD STORE / MUSCATINE           2400 2ND AVE   \n",
              "\n",
              "                city zip_code                             store_location  \\\n",
              "0              ONAWA  51040.0                POINT(-96.095845 42.025841)   \n",
              "1              ONAWA  51040.0                POINT(-96.095845 42.025841)   \n",
              "2       MOUNT VERNON  52314.0                POINT(-91.410401 41.918328)   \n",
              "3        CENTERVILLE  52544.0      POINT(-92.867379968 40.7322790010001)   \n",
              "4             ANKENY  50021.0          POINT(-93.581705035 41.732371017)   \n",
              "...              ...      ...                                        ...   \n",
              "4995      MASON CITY  50401.0                POINT(-93.235588 43.148451)   \n",
              "4996  COUNCIL BLUFFS  51503.0                POINT(-95.827277 41.244233)   \n",
              "4997            AMES  50010.0                                       None   \n",
              "4998       URBANDALE  50322.0                POINT(-93.698172 41.614888)   \n",
              "4999       MUSCATINE  52761.0  POINT(-91.0365969649999 41.4504599950001)   \n",
              "\n",
              "     county_number         county  ... item_number  \\\n",
              "0               67         MONONA  ...       65259   \n",
              "1               67         MONONA  ...       65259   \n",
              "2               57           LINN  ...      100413   \n",
              "3             None      APPANOOSE  ...      100413   \n",
              "4             None           POLK  ...      100413   \n",
              "...            ...            ...  ...         ...   \n",
              "4995            17    CERRO GORDO  ...       39500   \n",
              "4996            78  POTTAWATTAMIE  ...       39555   \n",
              "4997            85          STORY  ...       39555   \n",
              "4998            77           POLK  ...       39555   \n",
              "4999          None      MUSCATINE  ...       39555   \n",
              "\n",
              "                            item_description pack bottle_volume_ml  \\\n",
              "0         JAGERMEISTER LIQUEUR MINI MEISTERS   12               20   \n",
              "1         JAGERMEISTER LIQUEUR MINI MEISTERS   12               20   \n",
              "2     FIREBALL CINNAMON WHISKEY PARTY BUCKET    1               50   \n",
              "3     FIREBALL CINNAMON WHISKEY PARTY BUCKET    1               50   \n",
              "4     FIREBALL CINNAMON WHISKEY PARTY BUCKET    1               50   \n",
              "...                                      ...  ...              ...   \n",
              "4995        WESTERN SON RASPBERRY VODKA MINI    6               50   \n",
              "4996                    DEEP EDDY LEMON MINI   12               50   \n",
              "4997                    DEEP EDDY LEMON MINI   12               50   \n",
              "4998                    DEEP EDDY LEMON MINI   12               50   \n",
              "4999                    DEEP EDDY LEMON MINI   12               50   \n",
              "\n",
              "     state_bottle_cost state_bottle_retail  bottles_sold  sale_dollars  \\\n",
              "0                 4.93                7.40             1          7.40   \n",
              "1                 4.93                7.40             1          7.40   \n",
              "2                51.60               77.40             1         77.40   \n",
              "3                51.60               77.40             1         77.40   \n",
              "4                51.60               77.40             1         77.40   \n",
              "...                ...                 ...           ...           ...   \n",
              "4995              4.83                7.25             3         21.75   \n",
              "4996              4.21                6.32             3         18.96   \n",
              "4997              4.21                6.32             3         18.96   \n",
              "4998              4.21                6.32             3         18.96   \n",
              "4999              7.50               11.25             3         33.75   \n",
              "\n",
              "      volume_sold_liters  volume_sold_gallons  \n",
              "0                   0.02                 0.00  \n",
              "1                   0.02                 0.00  \n",
              "2                   0.05                 0.01  \n",
              "3                   0.05                 0.01  \n",
              "4                   0.05                 0.01  \n",
              "...                  ...                  ...  \n",
              "4995                0.15                 0.03  \n",
              "4996                0.15                 0.03  \n",
              "4997                0.15                 0.03  \n",
              "4998                0.15                 0.03  \n",
              "4999                0.15                 0.03  \n",
              "\n",
              "[5000 rows x 24 columns]"
            ],
            "text/html": [
              "\n",
              "  <div id=\"df-2728be95-5d60-43c0-bfbb-96077185178f\" class=\"colab-df-container\">\n",
              "    <div>\n",
              "<style scoped>\n",
              "    .dataframe tbody tr th:only-of-type {\n",
              "        vertical-align: middle;\n",
              "    }\n",
              "\n",
              "    .dataframe tbody tr th {\n",
              "        vertical-align: top;\n",
              "    }\n",
              "\n",
              "    .dataframe thead th {\n",
              "        text-align: right;\n",
              "    }\n",
              "</style>\n",
              "<table border=\"1\" class=\"dataframe\">\n",
              "  <thead>\n",
              "    <tr style=\"text-align: right;\">\n",
              "      <th></th>\n",
              "      <th>invoice_and_item_number</th>\n",
              "      <th>date</th>\n",
              "      <th>store_number</th>\n",
              "      <th>store_name</th>\n",
              "      <th>address</th>\n",
              "      <th>city</th>\n",
              "      <th>zip_code</th>\n",
              "      <th>store_location</th>\n",
              "      <th>county_number</th>\n",
              "      <th>county</th>\n",
              "      <th>...</th>\n",
              "      <th>item_number</th>\n",
              "      <th>item_description</th>\n",
              "      <th>pack</th>\n",
              "      <th>bottle_volume_ml</th>\n",
              "      <th>state_bottle_cost</th>\n",
              "      <th>state_bottle_retail</th>\n",
              "      <th>bottles_sold</th>\n",
              "      <th>sale_dollars</th>\n",
              "      <th>volume_sold_liters</th>\n",
              "      <th>volume_sold_gallons</th>\n",
              "    </tr>\n",
              "  </thead>\n",
              "  <tbody>\n",
              "    <tr>\n",
              "      <th>0</th>\n",
              "      <td>INV-23023600076</td>\n",
              "      <td>2019-11-05</td>\n",
              "      <td>3723</td>\n",
              "      <td>J D SPIRITS LIQUOR</td>\n",
              "      <td>1023  9TH ST</td>\n",
              "      <td>ONAWA</td>\n",
              "      <td>51040.0</td>\n",
              "      <td>POINT(-96.095845 42.025841)</td>\n",
              "      <td>67</td>\n",
              "      <td>MONONA</td>\n",
              "      <td>...</td>\n",
              "      <td>65259</td>\n",
              "      <td>JAGERMEISTER LIQUEUR MINI MEISTERS</td>\n",
              "      <td>12</td>\n",
              "      <td>20</td>\n",
              "      <td>4.93</td>\n",
              "      <td>7.40</td>\n",
              "      <td>1</td>\n",
              "      <td>7.40</td>\n",
              "      <td>0.02</td>\n",
              "      <td>0.00</td>\n",
              "    </tr>\n",
              "    <tr>\n",
              "      <th>1</th>\n",
              "      <td>INV-35063300013</td>\n",
              "      <td>2021-03-16</td>\n",
              "      <td>3723</td>\n",
              "      <td>J D SPIRITS LIQUOR</td>\n",
              "      <td>1023  9TH ST</td>\n",
              "      <td>ONAWA</td>\n",
              "      <td>51040.0</td>\n",
              "      <td>POINT(-96.095845 42.025841)</td>\n",
              "      <td>67</td>\n",
              "      <td>MONONA</td>\n",
              "      <td>...</td>\n",
              "      <td>65259</td>\n",
              "      <td>JAGERMEISTER LIQUEUR MINI MEISTERS</td>\n",
              "      <td>12</td>\n",
              "      <td>20</td>\n",
              "      <td>4.93</td>\n",
              "      <td>7.40</td>\n",
              "      <td>1</td>\n",
              "      <td>7.40</td>\n",
              "      <td>0.02</td>\n",
              "      <td>0.00</td>\n",
              "    </tr>\n",
              "    <tr>\n",
              "      <th>2</th>\n",
              "      <td>INV-43494000008</td>\n",
              "      <td>2022-01-03</td>\n",
              "      <td>5102</td>\n",
              "      <td>WILKIE LIQUORS</td>\n",
              "      <td>724 1ST  ST  SE</td>\n",
              "      <td>MOUNT VERNON</td>\n",
              "      <td>52314.0</td>\n",
              "      <td>POINT(-91.410401 41.918328)</td>\n",
              "      <td>57</td>\n",
              "      <td>LINN</td>\n",
              "      <td>...</td>\n",
              "      <td>100413</td>\n",
              "      <td>FIREBALL CINNAMON WHISKEY PARTY BUCKET</td>\n",
              "      <td>1</td>\n",
              "      <td>50</td>\n",
              "      <td>51.60</td>\n",
              "      <td>77.40</td>\n",
              "      <td>1</td>\n",
              "      <td>77.40</td>\n",
              "      <td>0.05</td>\n",
              "      <td>0.01</td>\n",
              "    </tr>\n",
              "    <tr>\n",
              "      <th>3</th>\n",
              "      <td>INV-57342400001</td>\n",
              "      <td>2023-04-07</td>\n",
              "      <td>5724</td>\n",
              "      <td>CASEY'S GENERAL STORE #3772</td>\n",
              "      <td>105 SOUTH 18TH STREET</td>\n",
              "      <td>CENTERVILLE</td>\n",
              "      <td>52544.0</td>\n",
              "      <td>POINT(-92.867379968 40.7322790010001)</td>\n",
              "      <td>None</td>\n",
              "      <td>APPANOOSE</td>\n",
              "      <td>...</td>\n",
              "      <td>100413</td>\n",
              "      <td>FIREBALL CINNAMON WHISKEY PARTY BUCKET</td>\n",
              "      <td>1</td>\n",
              "      <td>50</td>\n",
              "      <td>51.60</td>\n",
              "      <td>77.40</td>\n",
              "      <td>1</td>\n",
              "      <td>77.40</td>\n",
              "      <td>0.05</td>\n",
              "      <td>0.01</td>\n",
              "    </tr>\n",
              "    <tr>\n",
              "      <th>4</th>\n",
              "      <td>INV-57413500001</td>\n",
              "      <td>2023-04-11</td>\n",
              "      <td>6019</td>\n",
              "      <td>CASEY'S GENERAL STORE #3888 / ANKENY</td>\n",
              "      <td>1024 E 1ST ST</td>\n",
              "      <td>ANKENY</td>\n",
              "      <td>50021.0</td>\n",
              "      <td>POINT(-93.581705035 41.732371017)</td>\n",
              "      <td>None</td>\n",
              "      <td>POLK</td>\n",
              "      <td>...</td>\n",
              "      <td>100413</td>\n",
              "      <td>FIREBALL CINNAMON WHISKEY PARTY BUCKET</td>\n",
              "      <td>1</td>\n",
              "      <td>50</td>\n",
              "      <td>51.60</td>\n",
              "      <td>77.40</td>\n",
              "      <td>1</td>\n",
              "      <td>77.40</td>\n",
              "      <td>0.05</td>\n",
              "      <td>0.01</td>\n",
              "    </tr>\n",
              "    <tr>\n",
              "      <th>...</th>\n",
              "      <td>...</td>\n",
              "      <td>...</td>\n",
              "      <td>...</td>\n",
              "      <td>...</td>\n",
              "      <td>...</td>\n",
              "      <td>...</td>\n",
              "      <td>...</td>\n",
              "      <td>...</td>\n",
              "      <td>...</td>\n",
              "      <td>...</td>\n",
              "      <td>...</td>\n",
              "      <td>...</td>\n",
              "      <td>...</td>\n",
              "      <td>...</td>\n",
              "      <td>...</td>\n",
              "      <td>...</td>\n",
              "      <td>...</td>\n",
              "      <td>...</td>\n",
              "      <td>...</td>\n",
              "      <td>...</td>\n",
              "      <td>...</td>\n",
              "    </tr>\n",
              "    <tr>\n",
              "      <th>4995</th>\n",
              "      <td>INV-22450200019</td>\n",
              "      <td>2019-10-10</td>\n",
              "      <td>2515</td>\n",
              "      <td>HY-VEE FOOD STORE #1 / MASON CITY</td>\n",
              "      <td>2400 4TH ST SW</td>\n",
              "      <td>MASON CITY</td>\n",
              "      <td>50401.0</td>\n",
              "      <td>POINT(-93.235588 43.148451)</td>\n",
              "      <td>17</td>\n",
              "      <td>CERRO GORDO</td>\n",
              "      <td>...</td>\n",
              "      <td>39500</td>\n",
              "      <td>WESTERN SON RASPBERRY VODKA MINI</td>\n",
              "      <td>6</td>\n",
              "      <td>50</td>\n",
              "      <td>4.83</td>\n",
              "      <td>7.25</td>\n",
              "      <td>3</td>\n",
              "      <td>21.75</td>\n",
              "      <td>0.15</td>\n",
              "      <td>0.03</td>\n",
              "    </tr>\n",
              "    <tr>\n",
              "      <th>4996</th>\n",
              "      <td>INV-47572400168</td>\n",
              "      <td>2022-05-18</td>\n",
              "      <td>2629</td>\n",
              "      <td>HY-VEE FOOD STORE #2 / COUNCIL BLUFFS</td>\n",
              "      <td>1745 MADISON AVE</td>\n",
              "      <td>COUNCIL BLUFFS</td>\n",
              "      <td>51503.0</td>\n",
              "      <td>POINT(-95.827277 41.244233)</td>\n",
              "      <td>78</td>\n",
              "      <td>POTTAWATTAMIE</td>\n",
              "      <td>...</td>\n",
              "      <td>39555</td>\n",
              "      <td>DEEP EDDY LEMON MINI</td>\n",
              "      <td>12</td>\n",
              "      <td>50</td>\n",
              "      <td>4.21</td>\n",
              "      <td>6.32</td>\n",
              "      <td>3</td>\n",
              "      <td>18.96</td>\n",
              "      <td>0.15</td>\n",
              "      <td>0.03</td>\n",
              "    </tr>\n",
              "    <tr>\n",
              "      <th>4997</th>\n",
              "      <td>INV-43760400008</td>\n",
              "      <td>2022-01-13</td>\n",
              "      <td>4656</td>\n",
              "      <td>CASEY'S GENERAL STORE #2301 / AMES</td>\n",
              "      <td>17005 HWY 69</td>\n",
              "      <td>AMES</td>\n",
              "      <td>50010.0</td>\n",
              "      <td>None</td>\n",
              "      <td>85</td>\n",
              "      <td>STORY</td>\n",
              "      <td>...</td>\n",
              "      <td>39555</td>\n",
              "      <td>DEEP EDDY LEMON MINI</td>\n",
              "      <td>12</td>\n",
              "      <td>50</td>\n",
              "      <td>4.21</td>\n",
              "      <td>6.32</td>\n",
              "      <td>3</td>\n",
              "      <td>18.96</td>\n",
              "      <td>0.15</td>\n",
              "      <td>0.03</td>\n",
              "    </tr>\n",
              "    <tr>\n",
              "      <th>4998</th>\n",
              "      <td>INV-45880700038</td>\n",
              "      <td>2022-03-24</td>\n",
              "      <td>2691</td>\n",
              "      <td>HY-VEE FAST &amp; FRESH - DES MOINES</td>\n",
              "      <td>5801 HICKMAN ROAD</td>\n",
              "      <td>URBANDALE</td>\n",
              "      <td>50322.0</td>\n",
              "      <td>POINT(-93.698172 41.614888)</td>\n",
              "      <td>77</td>\n",
              "      <td>POLK</td>\n",
              "      <td>...</td>\n",
              "      <td>39555</td>\n",
              "      <td>DEEP EDDY LEMON MINI</td>\n",
              "      <td>12</td>\n",
              "      <td>50</td>\n",
              "      <td>4.21</td>\n",
              "      <td>6.32</td>\n",
              "      <td>3</td>\n",
              "      <td>18.96</td>\n",
              "      <td>0.15</td>\n",
              "      <td>0.03</td>\n",
              "    </tr>\n",
              "    <tr>\n",
              "      <th>4999</th>\n",
              "      <td>INV-58038100097</td>\n",
              "      <td>2023-05-02</td>\n",
              "      <td>2573</td>\n",
              "      <td>HY-VEE FOOD STORE / MUSCATINE</td>\n",
              "      <td>2400 2ND AVE</td>\n",
              "      <td>MUSCATINE</td>\n",
              "      <td>52761.0</td>\n",
              "      <td>POINT(-91.0365969649999 41.4504599950001)</td>\n",
              "      <td>None</td>\n",
              "      <td>MUSCATINE</td>\n",
              "      <td>...</td>\n",
              "      <td>39555</td>\n",
              "      <td>DEEP EDDY LEMON MINI</td>\n",
              "      <td>12</td>\n",
              "      <td>50</td>\n",
              "      <td>7.50</td>\n",
              "      <td>11.25</td>\n",
              "      <td>3</td>\n",
              "      <td>33.75</td>\n",
              "      <td>0.15</td>\n",
              "      <td>0.03</td>\n",
              "    </tr>\n",
              "  </tbody>\n",
              "</table>\n",
              "<p>5000 rows × 24 columns</p>\n",
              "</div>\n",
              "    <div class=\"colab-df-buttons\">\n",
              "\n",
              "  <div class=\"colab-df-container\">\n",
              "    <button class=\"colab-df-convert\" onclick=\"convertToInteractive('df-2728be95-5d60-43c0-bfbb-96077185178f')\"\n",
              "            title=\"Convert this dataframe to an interactive table.\"\n",
              "            style=\"display:none;\">\n",
              "\n",
              "  <svg xmlns=\"http://www.w3.org/2000/svg\" height=\"24px\" viewBox=\"0 -960 960 960\">\n",
              "    <path d=\"M120-120v-720h720v720H120Zm60-500h600v-160H180v160Zm220 220h160v-160H400v160Zm0 220h160v-160H400v160ZM180-400h160v-160H180v160Zm440 0h160v-160H620v160ZM180-180h160v-160H180v160Zm440 0h160v-160H620v160Z\"/>\n",
              "  </svg>\n",
              "    </button>\n",
              "\n",
              "  <style>\n",
              "    .colab-df-container {\n",
              "      display:flex;\n",
              "      gap: 12px;\n",
              "    }\n",
              "\n",
              "    .colab-df-convert {\n",
              "      background-color: #E8F0FE;\n",
              "      border: none;\n",
              "      border-radius: 50%;\n",
              "      cursor: pointer;\n",
              "      display: none;\n",
              "      fill: #1967D2;\n",
              "      height: 32px;\n",
              "      padding: 0 0 0 0;\n",
              "      width: 32px;\n",
              "    }\n",
              "\n",
              "    .colab-df-convert:hover {\n",
              "      background-color: #E2EBFA;\n",
              "      box-shadow: 0px 1px 2px rgba(60, 64, 67, 0.3), 0px 1px 3px 1px rgba(60, 64, 67, 0.15);\n",
              "      fill: #174EA6;\n",
              "    }\n",
              "\n",
              "    .colab-df-buttons div {\n",
              "      margin-bottom: 4px;\n",
              "    }\n",
              "\n",
              "    [theme=dark] .colab-df-convert {\n",
              "      background-color: #3B4455;\n",
              "      fill: #D2E3FC;\n",
              "    }\n",
              "\n",
              "    [theme=dark] .colab-df-convert:hover {\n",
              "      background-color: #434B5C;\n",
              "      box-shadow: 0px 1px 3px 1px rgba(0, 0, 0, 0.15);\n",
              "      filter: drop-shadow(0px 1px 2px rgba(0, 0, 0, 0.3));\n",
              "      fill: #FFFFFF;\n",
              "    }\n",
              "  </style>\n",
              "\n",
              "    <script>\n",
              "      const buttonEl =\n",
              "        document.querySelector('#df-2728be95-5d60-43c0-bfbb-96077185178f button.colab-df-convert');\n",
              "      buttonEl.style.display =\n",
              "        google.colab.kernel.accessAllowed ? 'block' : 'none';\n",
              "\n",
              "      async function convertToInteractive(key) {\n",
              "        const element = document.querySelector('#df-2728be95-5d60-43c0-bfbb-96077185178f');\n",
              "        const dataTable =\n",
              "          await google.colab.kernel.invokeFunction('convertToInteractive',\n",
              "                                                    [key], {});\n",
              "        if (!dataTable) return;\n",
              "\n",
              "        const docLinkHtml = 'Like what you see? Visit the ' +\n",
              "          '<a target=\"_blank\" href=https://colab.research.google.com/notebooks/data_table.ipynb>data table notebook</a>'\n",
              "          + ' to learn more about interactive tables.';\n",
              "        element.innerHTML = '';\n",
              "        dataTable['output_type'] = 'display_data';\n",
              "        await google.colab.output.renderOutput(dataTable, element);\n",
              "        const docLink = document.createElement('div');\n",
              "        docLink.innerHTML = docLinkHtml;\n",
              "        element.appendChild(docLink);\n",
              "      }\n",
              "    </script>\n",
              "  </div>\n",
              "\n",
              "\n",
              "<div id=\"df-a3ed6a5b-178a-4dbd-83a9-20aed78c0090\">\n",
              "  <button class=\"colab-df-quickchart\" onclick=\"quickchart('df-a3ed6a5b-178a-4dbd-83a9-20aed78c0090')\"\n",
              "            title=\"Suggest charts\"\n",
              "            style=\"display:none;\">\n",
              "\n",
              "<svg xmlns=\"http://www.w3.org/2000/svg\" height=\"24px\"viewBox=\"0 0 24 24\"\n",
              "     width=\"24px\">\n",
              "    <g>\n",
              "        <path d=\"M19 3H5c-1.1 0-2 .9-2 2v14c0 1.1.9 2 2 2h14c1.1 0 2-.9 2-2V5c0-1.1-.9-2-2-2zM9 17H7v-7h2v7zm4 0h-2V7h2v10zm4 0h-2v-4h2v4z\"/>\n",
              "    </g>\n",
              "</svg>\n",
              "  </button>\n",
              "\n",
              "<style>\n",
              "  .colab-df-quickchart {\n",
              "      --bg-color: #E8F0FE;\n",
              "      --fill-color: #1967D2;\n",
              "      --hover-bg-color: #E2EBFA;\n",
              "      --hover-fill-color: #174EA6;\n",
              "      --disabled-fill-color: #AAA;\n",
              "      --disabled-bg-color: #DDD;\n",
              "  }\n",
              "\n",
              "  [theme=dark] .colab-df-quickchart {\n",
              "      --bg-color: #3B4455;\n",
              "      --fill-color: #D2E3FC;\n",
              "      --hover-bg-color: #434B5C;\n",
              "      --hover-fill-color: #FFFFFF;\n",
              "      --disabled-bg-color: #3B4455;\n",
              "      --disabled-fill-color: #666;\n",
              "  }\n",
              "\n",
              "  .colab-df-quickchart {\n",
              "    background-color: var(--bg-color);\n",
              "    border: none;\n",
              "    border-radius: 50%;\n",
              "    cursor: pointer;\n",
              "    display: none;\n",
              "    fill: var(--fill-color);\n",
              "    height: 32px;\n",
              "    padding: 0;\n",
              "    width: 32px;\n",
              "  }\n",
              "\n",
              "  .colab-df-quickchart:hover {\n",
              "    background-color: var(--hover-bg-color);\n",
              "    box-shadow: 0 1px 2px rgba(60, 64, 67, 0.3), 0 1px 3px 1px rgba(60, 64, 67, 0.15);\n",
              "    fill: var(--button-hover-fill-color);\n",
              "  }\n",
              "\n",
              "  .colab-df-quickchart-complete:disabled,\n",
              "  .colab-df-quickchart-complete:disabled:hover {\n",
              "    background-color: var(--disabled-bg-color);\n",
              "    fill: var(--disabled-fill-color);\n",
              "    box-shadow: none;\n",
              "  }\n",
              "\n",
              "  .colab-df-spinner {\n",
              "    border: 2px solid var(--fill-color);\n",
              "    border-color: transparent;\n",
              "    border-bottom-color: var(--fill-color);\n",
              "    animation:\n",
              "      spin 1s steps(1) infinite;\n",
              "  }\n",
              "\n",
              "  @keyframes spin {\n",
              "    0% {\n",
              "      border-color: transparent;\n",
              "      border-bottom-color: var(--fill-color);\n",
              "      border-left-color: var(--fill-color);\n",
              "    }\n",
              "    20% {\n",
              "      border-color: transparent;\n",
              "      border-left-color: var(--fill-color);\n",
              "      border-top-color: var(--fill-color);\n",
              "    }\n",
              "    30% {\n",
              "      border-color: transparent;\n",
              "      border-left-color: var(--fill-color);\n",
              "      border-top-color: var(--fill-color);\n",
              "      border-right-color: var(--fill-color);\n",
              "    }\n",
              "    40% {\n",
              "      border-color: transparent;\n",
              "      border-right-color: var(--fill-color);\n",
              "      border-top-color: var(--fill-color);\n",
              "    }\n",
              "    60% {\n",
              "      border-color: transparent;\n",
              "      border-right-color: var(--fill-color);\n",
              "    }\n",
              "    80% {\n",
              "      border-color: transparent;\n",
              "      border-right-color: var(--fill-color);\n",
              "      border-bottom-color: var(--fill-color);\n",
              "    }\n",
              "    90% {\n",
              "      border-color: transparent;\n",
              "      border-bottom-color: var(--fill-color);\n",
              "    }\n",
              "  }\n",
              "</style>\n",
              "\n",
              "  <script>\n",
              "    async function quickchart(key) {\n",
              "      const quickchartButtonEl =\n",
              "        document.querySelector('#' + key + ' button');\n",
              "      quickchartButtonEl.disabled = true;  // To prevent multiple clicks.\n",
              "      quickchartButtonEl.classList.add('colab-df-spinner');\n",
              "      try {\n",
              "        const charts = await google.colab.kernel.invokeFunction(\n",
              "            'suggestCharts', [key], {});\n",
              "      } catch (error) {\n",
              "        console.error('Error during call to suggestCharts:', error);\n",
              "      }\n",
              "      quickchartButtonEl.classList.remove('colab-df-spinner');\n",
              "      quickchartButtonEl.classList.add('colab-df-quickchart-complete');\n",
              "    }\n",
              "    (() => {\n",
              "      let quickchartButtonEl =\n",
              "        document.querySelector('#df-a3ed6a5b-178a-4dbd-83a9-20aed78c0090 button');\n",
              "      quickchartButtonEl.style.display =\n",
              "        google.colab.kernel.accessAllowed ? 'block' : 'none';\n",
              "    })();\n",
              "  </script>\n",
              "</div>\n",
              "    </div>\n",
              "  </div>\n"
            ],
            "application/vnd.google.colaboratory.intrinsic+json": {
              "type": "dataframe",
              "variable_name": "df1"
            }
          },
          "metadata": {},
          "execution_count": 22
        }
      ]
    },
    {
      "cell_type": "markdown",
      "source": [
        "Mengambil data dari bigquery dan menyimpannya sebagai dataframe"
      ],
      "metadata": {
        "id": "1Tjvs47yazJq"
      }
    },
    {
      "cell_type": "code",
      "source": [
        "query =\"\"\"\n",
        "SELECT  sale_dollars\n",
        "FROM `bigquery-public-data.iowa_liquor_sales.sales`\n",
        "LIMIT 5000\n",
        "\"\"\"\n",
        "\n",
        "# Set up the query\n",
        "dfsd = client.query(query).to_dataframe()\n",
        "dfsd"
      ],
      "metadata": {
        "colab": {
          "base_uri": "https://localhost:8080/",
          "height": 423
        },
        "id": "8TDE5q6Aa88a",
        "outputId": "7c80e09f-a730-46c6-8276-cca742458f52"
      },
      "execution_count": 26,
      "outputs": [
        {
          "output_type": "execute_result",
          "data": {
            "text/plain": [
              "      sale_dollars\n",
              "0             7.40\n",
              "1             7.40\n",
              "2            77.40\n",
              "3            77.40\n",
              "4            77.40\n",
              "...            ...\n",
              "4995         21.75\n",
              "4996         18.96\n",
              "4997         18.96\n",
              "4998         18.96\n",
              "4999         33.75\n",
              "\n",
              "[5000 rows x 1 columns]"
            ],
            "text/html": [
              "\n",
              "  <div id=\"df-d453230a-c4ef-4d81-b417-daf54de93cdc\" class=\"colab-df-container\">\n",
              "    <div>\n",
              "<style scoped>\n",
              "    .dataframe tbody tr th:only-of-type {\n",
              "        vertical-align: middle;\n",
              "    }\n",
              "\n",
              "    .dataframe tbody tr th {\n",
              "        vertical-align: top;\n",
              "    }\n",
              "\n",
              "    .dataframe thead th {\n",
              "        text-align: right;\n",
              "    }\n",
              "</style>\n",
              "<table border=\"1\" class=\"dataframe\">\n",
              "  <thead>\n",
              "    <tr style=\"text-align: right;\">\n",
              "      <th></th>\n",
              "      <th>sale_dollars</th>\n",
              "    </tr>\n",
              "  </thead>\n",
              "  <tbody>\n",
              "    <tr>\n",
              "      <th>0</th>\n",
              "      <td>7.40</td>\n",
              "    </tr>\n",
              "    <tr>\n",
              "      <th>1</th>\n",
              "      <td>7.40</td>\n",
              "    </tr>\n",
              "    <tr>\n",
              "      <th>2</th>\n",
              "      <td>77.40</td>\n",
              "    </tr>\n",
              "    <tr>\n",
              "      <th>3</th>\n",
              "      <td>77.40</td>\n",
              "    </tr>\n",
              "    <tr>\n",
              "      <th>4</th>\n",
              "      <td>77.40</td>\n",
              "    </tr>\n",
              "    <tr>\n",
              "      <th>...</th>\n",
              "      <td>...</td>\n",
              "    </tr>\n",
              "    <tr>\n",
              "      <th>4995</th>\n",
              "      <td>21.75</td>\n",
              "    </tr>\n",
              "    <tr>\n",
              "      <th>4996</th>\n",
              "      <td>18.96</td>\n",
              "    </tr>\n",
              "    <tr>\n",
              "      <th>4997</th>\n",
              "      <td>18.96</td>\n",
              "    </tr>\n",
              "    <tr>\n",
              "      <th>4998</th>\n",
              "      <td>18.96</td>\n",
              "    </tr>\n",
              "    <tr>\n",
              "      <th>4999</th>\n",
              "      <td>33.75</td>\n",
              "    </tr>\n",
              "  </tbody>\n",
              "</table>\n",
              "<p>5000 rows × 1 columns</p>\n",
              "</div>\n",
              "    <div class=\"colab-df-buttons\">\n",
              "\n",
              "  <div class=\"colab-df-container\">\n",
              "    <button class=\"colab-df-convert\" onclick=\"convertToInteractive('df-d453230a-c4ef-4d81-b417-daf54de93cdc')\"\n",
              "            title=\"Convert this dataframe to an interactive table.\"\n",
              "            style=\"display:none;\">\n",
              "\n",
              "  <svg xmlns=\"http://www.w3.org/2000/svg\" height=\"24px\" viewBox=\"0 -960 960 960\">\n",
              "    <path d=\"M120-120v-720h720v720H120Zm60-500h600v-160H180v160Zm220 220h160v-160H400v160Zm0 220h160v-160H400v160ZM180-400h160v-160H180v160Zm440 0h160v-160H620v160ZM180-180h160v-160H180v160Zm440 0h160v-160H620v160Z\"/>\n",
              "  </svg>\n",
              "    </button>\n",
              "\n",
              "  <style>\n",
              "    .colab-df-container {\n",
              "      display:flex;\n",
              "      gap: 12px;\n",
              "    }\n",
              "\n",
              "    .colab-df-convert {\n",
              "      background-color: #E8F0FE;\n",
              "      border: none;\n",
              "      border-radius: 50%;\n",
              "      cursor: pointer;\n",
              "      display: none;\n",
              "      fill: #1967D2;\n",
              "      height: 32px;\n",
              "      padding: 0 0 0 0;\n",
              "      width: 32px;\n",
              "    }\n",
              "\n",
              "    .colab-df-convert:hover {\n",
              "      background-color: #E2EBFA;\n",
              "      box-shadow: 0px 1px 2px rgba(60, 64, 67, 0.3), 0px 1px 3px 1px rgba(60, 64, 67, 0.15);\n",
              "      fill: #174EA6;\n",
              "    }\n",
              "\n",
              "    .colab-df-buttons div {\n",
              "      margin-bottom: 4px;\n",
              "    }\n",
              "\n",
              "    [theme=dark] .colab-df-convert {\n",
              "      background-color: #3B4455;\n",
              "      fill: #D2E3FC;\n",
              "    }\n",
              "\n",
              "    [theme=dark] .colab-df-convert:hover {\n",
              "      background-color: #434B5C;\n",
              "      box-shadow: 0px 1px 3px 1px rgba(0, 0, 0, 0.15);\n",
              "      filter: drop-shadow(0px 1px 2px rgba(0, 0, 0, 0.3));\n",
              "      fill: #FFFFFF;\n",
              "    }\n",
              "  </style>\n",
              "\n",
              "    <script>\n",
              "      const buttonEl =\n",
              "        document.querySelector('#df-d453230a-c4ef-4d81-b417-daf54de93cdc button.colab-df-convert');\n",
              "      buttonEl.style.display =\n",
              "        google.colab.kernel.accessAllowed ? 'block' : 'none';\n",
              "\n",
              "      async function convertToInteractive(key) {\n",
              "        const element = document.querySelector('#df-d453230a-c4ef-4d81-b417-daf54de93cdc');\n",
              "        const dataTable =\n",
              "          await google.colab.kernel.invokeFunction('convertToInteractive',\n",
              "                                                    [key], {});\n",
              "        if (!dataTable) return;\n",
              "\n",
              "        const docLinkHtml = 'Like what you see? Visit the ' +\n",
              "          '<a target=\"_blank\" href=https://colab.research.google.com/notebooks/data_table.ipynb>data table notebook</a>'\n",
              "          + ' to learn more about interactive tables.';\n",
              "        element.innerHTML = '';\n",
              "        dataTable['output_type'] = 'display_data';\n",
              "        await google.colab.output.renderOutput(dataTable, element);\n",
              "        const docLink = document.createElement('div');\n",
              "        docLink.innerHTML = docLinkHtml;\n",
              "        element.appendChild(docLink);\n",
              "      }\n",
              "    </script>\n",
              "  </div>\n",
              "\n",
              "\n",
              "<div id=\"df-357db7ac-ac0c-4e3d-b5eb-5b47cb2320ae\">\n",
              "  <button class=\"colab-df-quickchart\" onclick=\"quickchart('df-357db7ac-ac0c-4e3d-b5eb-5b47cb2320ae')\"\n",
              "            title=\"Suggest charts\"\n",
              "            style=\"display:none;\">\n",
              "\n",
              "<svg xmlns=\"http://www.w3.org/2000/svg\" height=\"24px\"viewBox=\"0 0 24 24\"\n",
              "     width=\"24px\">\n",
              "    <g>\n",
              "        <path d=\"M19 3H5c-1.1 0-2 .9-2 2v14c0 1.1.9 2 2 2h14c1.1 0 2-.9 2-2V5c0-1.1-.9-2-2-2zM9 17H7v-7h2v7zm4 0h-2V7h2v10zm4 0h-2v-4h2v4z\"/>\n",
              "    </g>\n",
              "</svg>\n",
              "  </button>\n",
              "\n",
              "<style>\n",
              "  .colab-df-quickchart {\n",
              "      --bg-color: #E8F0FE;\n",
              "      --fill-color: #1967D2;\n",
              "      --hover-bg-color: #E2EBFA;\n",
              "      --hover-fill-color: #174EA6;\n",
              "      --disabled-fill-color: #AAA;\n",
              "      --disabled-bg-color: #DDD;\n",
              "  }\n",
              "\n",
              "  [theme=dark] .colab-df-quickchart {\n",
              "      --bg-color: #3B4455;\n",
              "      --fill-color: #D2E3FC;\n",
              "      --hover-bg-color: #434B5C;\n",
              "      --hover-fill-color: #FFFFFF;\n",
              "      --disabled-bg-color: #3B4455;\n",
              "      --disabled-fill-color: #666;\n",
              "  }\n",
              "\n",
              "  .colab-df-quickchart {\n",
              "    background-color: var(--bg-color);\n",
              "    border: none;\n",
              "    border-radius: 50%;\n",
              "    cursor: pointer;\n",
              "    display: none;\n",
              "    fill: var(--fill-color);\n",
              "    height: 32px;\n",
              "    padding: 0;\n",
              "    width: 32px;\n",
              "  }\n",
              "\n",
              "  .colab-df-quickchart:hover {\n",
              "    background-color: var(--hover-bg-color);\n",
              "    box-shadow: 0 1px 2px rgba(60, 64, 67, 0.3), 0 1px 3px 1px rgba(60, 64, 67, 0.15);\n",
              "    fill: var(--button-hover-fill-color);\n",
              "  }\n",
              "\n",
              "  .colab-df-quickchart-complete:disabled,\n",
              "  .colab-df-quickchart-complete:disabled:hover {\n",
              "    background-color: var(--disabled-bg-color);\n",
              "    fill: var(--disabled-fill-color);\n",
              "    box-shadow: none;\n",
              "  }\n",
              "\n",
              "  .colab-df-spinner {\n",
              "    border: 2px solid var(--fill-color);\n",
              "    border-color: transparent;\n",
              "    border-bottom-color: var(--fill-color);\n",
              "    animation:\n",
              "      spin 1s steps(1) infinite;\n",
              "  }\n",
              "\n",
              "  @keyframes spin {\n",
              "    0% {\n",
              "      border-color: transparent;\n",
              "      border-bottom-color: var(--fill-color);\n",
              "      border-left-color: var(--fill-color);\n",
              "    }\n",
              "    20% {\n",
              "      border-color: transparent;\n",
              "      border-left-color: var(--fill-color);\n",
              "      border-top-color: var(--fill-color);\n",
              "    }\n",
              "    30% {\n",
              "      border-color: transparent;\n",
              "      border-left-color: var(--fill-color);\n",
              "      border-top-color: var(--fill-color);\n",
              "      border-right-color: var(--fill-color);\n",
              "    }\n",
              "    40% {\n",
              "      border-color: transparent;\n",
              "      border-right-color: var(--fill-color);\n",
              "      border-top-color: var(--fill-color);\n",
              "    }\n",
              "    60% {\n",
              "      border-color: transparent;\n",
              "      border-right-color: var(--fill-color);\n",
              "    }\n",
              "    80% {\n",
              "      border-color: transparent;\n",
              "      border-right-color: var(--fill-color);\n",
              "      border-bottom-color: var(--fill-color);\n",
              "    }\n",
              "    90% {\n",
              "      border-color: transparent;\n",
              "      border-bottom-color: var(--fill-color);\n",
              "    }\n",
              "  }\n",
              "</style>\n",
              "\n",
              "  <script>\n",
              "    async function quickchart(key) {\n",
              "      const quickchartButtonEl =\n",
              "        document.querySelector('#' + key + ' button');\n",
              "      quickchartButtonEl.disabled = true;  // To prevent multiple clicks.\n",
              "      quickchartButtonEl.classList.add('colab-df-spinner');\n",
              "      try {\n",
              "        const charts = await google.colab.kernel.invokeFunction(\n",
              "            'suggestCharts', [key], {});\n",
              "      } catch (error) {\n",
              "        console.error('Error during call to suggestCharts:', error);\n",
              "      }\n",
              "      quickchartButtonEl.classList.remove('colab-df-spinner');\n",
              "      quickchartButtonEl.classList.add('colab-df-quickchart-complete');\n",
              "    }\n",
              "    (() => {\n",
              "      let quickchartButtonEl =\n",
              "        document.querySelector('#df-357db7ac-ac0c-4e3d-b5eb-5b47cb2320ae button');\n",
              "      quickchartButtonEl.style.display =\n",
              "        google.colab.kernel.accessAllowed ? 'block' : 'none';\n",
              "    })();\n",
              "  </script>\n",
              "</div>\n",
              "    </div>\n",
              "  </div>\n"
            ],
            "application/vnd.google.colaboratory.intrinsic+json": {
              "type": "dataframe",
              "variable_name": "dfsd",
              "summary": "{\n  \"name\": \"dfsd\",\n  \"rows\": 5000,\n  \"fields\": [\n    {\n      \"column\": \"sale_dollars\",\n      \"properties\": {\n        \"dtype\": \"number\",\n        \"std\": 30.1518054210909,\n        \"min\": 1.34,\n        \"max\": 478.98,\n        \"num_unique_values\": 261,\n        \"samples\": [\n          44.78,\n          13.8,\n          14.1\n        ],\n        \"semantic_type\": \"\",\n        \"description\": \"\"\n      }\n    }\n  ]\n}"
            }
          },
          "metadata": {},
          "execution_count": 26
        }
      ]
    },
    {
      "cell_type": "markdown",
      "source": [
        "Membuat Dataframe baru untuk kolom sale_dollars saja, dan membatasi sebanyak 5000 baris"
      ],
      "metadata": {
        "id": "-YF6uUFwcb0i"
      }
    },
    {
      "cell_type": "markdown",
      "source": [
        "### A.Analisis Anomali"
      ],
      "metadata": {
        "id": "-gMuPTu4cw1y"
      }
    },
    {
      "cell_type": "code",
      "source": [
        "#Menghitung Central Tendency Mean, median, mode\n",
        "print('sale_dollars in average :',dfsd['sale_dollars'].mean(),'sale')\n",
        "print('Median of sale_dollars :',dfsd['sale_dollars'].median(),'sale')\n",
        "print('mode of sale_dollars :',dfsd['sale_dollars'].mode(),'sale')"
      ],
      "metadata": {
        "colab": {
          "base_uri": "https://localhost:8080/"
        },
        "id": "oSPwSb8tcumL",
        "outputId": "66570d4a-9bba-4b66-8dde-037089cae7a1"
      },
      "execution_count": 29,
      "outputs": [
        {
          "output_type": "stream",
          "name": "stdout",
          "text": [
            "sale_dollars in average : 28.369947999999997 sale\n",
            "Median of sale_dollars : 16.62 sale\n",
            "mode of sale_dollars : 0    77.4\n",
            "Name: sale_dollars, dtype: float64 sale\n"
          ]
        }
      ]
    },
    {
      "cell_type": "markdown",
      "source": [
        "Kolom sale_dollars memiliki nilai mean: 28.37, nilai median: 16.62 dan modus: 77.4(Mean = rata-rata, median= nilai tengah, modus= nilai yang sering keluar)"
      ],
      "metadata": {
        "id": "OFtlg4oVeVWy"
      }
    },
    {
      "cell_type": "code",
      "source": [
        "# Cek Skewnes\n",
        "print(f\"Skewness:{dfsd['sale_dollars'].skew()}\" )"
      ],
      "metadata": {
        "colab": {
          "base_uri": "https://localhost:8080/"
        },
        "id": "PiPlvrjSfBhi",
        "outputId": "866f575a-7bdc-4e2a-8cf5-7e5ec716cc01"
      },
      "execution_count": 30,
      "outputs": [
        {
          "output_type": "stream",
          "name": "stdout",
          "text": [
            "Skewness:3.266708946225033\n"
          ]
        }
      ]
    },
    {
      "cell_type": "markdown",
      "source": [
        "Pengecekan Skewness dari data pada kolom safe_dollars memiliki nilai skewness sebesar 3.27 (setelah pembulatan) dan memiliki nilai skewness diatas 0.5 yang artinya higly skewnes"
      ],
      "metadata": {
        "id": "CFLB5cTFftmq"
      }
    },
    {
      "cell_type": "code",
      "source": [
        "# Analisa dengan Extreme Value Analysis\n",
        "fig, ax = plt.subplots(ncols=2,figsize=(10,4))\n",
        "\n",
        "dfsd['sale_dollars'].plot(kind='hist',bins=20,ax=ax[0])\n",
        "dfsd['sale_dollars'].plot(kind='box',ax=ax[1])"
      ],
      "metadata": {
        "colab": {
          "base_uri": "https://localhost:8080/",
          "height": 389
        },
        "id": "tnh3RpVsgJla",
        "outputId": "94c7e069-bb76-410f-87f5-4f366eac1b1e"
      },
      "execution_count": 32,
      "outputs": [
        {
          "output_type": "execute_result",
          "data": {
            "text/plain": [
              "<Axes: >"
            ]
          },
          "metadata": {},
          "execution_count": 32
        },
        {
          "output_type": "display_data",
          "data": {
            "text/plain": [
              "<Figure size 1000x400 with 2 Axes>"
            ],
            "image/png": "[encoded data removed]"
          },
          "metadata": {}
        }
      ]
    },
    {
      "cell_type": "markdown",
      "source": [
        "hasil grafik dengan metode extreme value analysis, menyimpulkan bahwa terdapat anomali/outlier yang tinggi dalam data"
      ],
      "metadata": {
        "id": "ciEMmWB5hFFI"
      }
    },
    {
      "cell_type": "code",
      "source": [
        "# menggunakan Normal Distribution Z-Score\n",
        "avg = dfsd['sale_dollars'].mean() #menghitung lagi nilai rata-rata\n",
        "std = dfsd['sale_dollars'].std() #menghitung standard deviaasi\n",
        "\n",
        "up_bound = avg + 3*std\n",
        "low_bound = avg - 3*std\n",
        "\n",
        "print(f'Upper Boundary: {up_bound:.2f}' ) #2f berarti 2angka dibelakang koma\n",
        "print(f'Lower Boundary: {low_bound:.2f}')"
      ],
      "metadata": {
        "colab": {
          "base_uri": "https://localhost:8080/"
        },
        "id": "6Us1lJ4rhfVi",
        "outputId": "83dbc840-9128-4042-ae7b-905c2d954bed"
      },
      "execution_count": 36,
      "outputs": [
        {
          "output_type": "stream",
          "name": "stdout",
          "text": [
            "Upper Boundary: 118.83\n",
            "Lower Boundary: -62.09\n"
          ]
        }
      ]
    },
    {
      "cell_type": "markdown",
      "source": [
        "Hasil penghitungan dengan mencari upper boundary dan lower boundarynya"
      ],
      "metadata": {
        "id": "OHs1h_ItkJN-"
      }
    },
    {
      "cell_type": "code",
      "source": [
        "#Menghitung presentase outlier\n",
        "outlier = dfsd['sale_dollars'][(dfsd['sale_dollars']<low_bound) | (dfsd['sale_dollars']>up_bound)]\n",
        "no_outlier = dfsd['sale_dollars'][(dfsd['sale_dollars']>=low_bound) & (dfsd['sale_dollars']<=up_bound)]\n",
        "\n",
        "print(f'Percentage of outliers: {len(outlier)*100/len(dfsd[\"sale_dollars\"]):.2f}%%') #menampilkan presentasi outlier dengan dua angka dibelakang koma"
      ],
      "metadata": {
        "colab": {
          "base_uri": "https://localhost:8080/"
        },
        "id": "zaImdLUJkR_t",
        "outputId": "db007c5c-1da4-4356-8e07-45e1fe3d68f4"
      },
      "execution_count": 38,
      "outputs": [
        {
          "output_type": "stream",
          "name": "stdout",
          "text": [
            "Percentage of outliers: 1.68%%\n"
          ]
        }
      ]
    },
    {
      "cell_type": "markdown",
      "source": [
        "presentasi outlier sebesar 1.68% data sale_dollars tanpa outlier di simpan dalam no_outlier"
      ],
      "metadata": {
        "id": "t-0Ac166kp4A"
      }
    },
    {
      "cell_type": "code",
      "source": [
        "fig, ax = plt.subplots(ncols=2,figsize=(10,4))\n",
        "\n",
        "no_outlier.plot(kind='hist',bins=20,ax=ax[0])\n",
        "no_outlier.plot(kind='box',ax=ax[1])"
      ],
      "metadata": {
        "colab": {
          "base_uri": "https://localhost:8080/",
          "height": 385
        },
        "id": "EScALyhAkyeV",
        "outputId": "d3214010-83ff-47e3-9a7a-f12b9491a53e"
      },
      "execution_count": 39,
      "outputs": [
        {
          "output_type": "execute_result",
          "data": {
            "text/plain": [
              "<Axes: >"
            ]
          },
          "metadata": {},
          "execution_count": 39
        },
        {
          "output_type": "display_data",
          "data": {
            "text/plain": [
              "<Figure size 1000x400 with 2 Axes>"
            ],
            "image/png": "[encoded data removed]"
          },
          "metadata": {}
        }
      ]
    },
    {
      "cell_type": "markdown",
      "source": [
        "Hasil grafik dengan menggunakan distribution Z-Score memperlihatkan masih ada outlier"
      ],
      "metadata": {
        "id": "Bc1N4yWClFdB"
      }
    },
    {
      "cell_type": "code",
      "source": [
        "# Menggunakan Skew Distribution: Tukey's Rule\n",
        "q1 = dfsd['sale_dollars'].quantile(0.25) # menghitung quantile 1\n",
        "q3 = dfsd['sale_dollars'].quantile(0.75) # menghitung quantile 3\n",
        "iqr = q3-q1\n",
        "\n",
        "up_bound = q3 + 1.5*iqr\n",
        "low_bound = q1 - 1.5*iqr\n",
        "\n",
        "print(f'Upper Boundary: {up_bound:.2f}' )\n",
        "print(f'Lower Boundary: {low_bound:.2f}')"
      ],
      "metadata": {
        "colab": {
          "base_uri": "https://localhost:8080/"
        },
        "id": "Ujqfty4GrGHl",
        "outputId": "6ac3de9b-c5a8-40ec-9952-22f0709a1558"
      },
      "execution_count": 44,
      "outputs": [
        {
          "output_type": "stream",
          "name": "stdout",
          "text": [
            "Upper Boundary: 70.50\n",
            "Lower Boundary: -25.50\n"
          ]
        }
      ]
    },
    {
      "cell_type": "markdown",
      "source": [
        "Menghitung Upper dan Lower Boundary dari outlier dan membuat variable sementara  tanpa outlier bernama no_outlier2"
      ],
      "metadata": {
        "id": "rqcKsvPBryaA"
      }
    },
    {
      "cell_type": "code",
      "source": [
        "outlier = dfsd['sale_dollars'][(dfsd['sale_dollars']<low_bound) | (dfsd['sale_dollars']>up_bound)]\n",
        "no_outlier2 = dfsd['sale_dollars'][(dfsd['sale_dollars']>=low_bound) & (dfsd['sale_dollars']<=up_bound)]\n",
        "\n",
        "print(f'Percentage of outliers: {len(outlier)*100/len(dfsd[\"sale_dollars\"]):.2f}%%')"
      ],
      "metadata": {
        "colab": {
          "base_uri": "https://localhost:8080/"
        },
        "id": "sQmJs1ZArd05",
        "outputId": "e092c8f7-6691-445d-f45b-49a33792c6e8"
      },
      "execution_count": 46,
      "outputs": [
        {
          "output_type": "stream",
          "name": "stdout",
          "text": [
            "Percentage of outliers: 13.40%%\n"
          ]
        }
      ]
    },
    {
      "cell_type": "markdown",
      "source": [
        "Presentasi outlier masih ada sebesar 13.40%"
      ],
      "metadata": {
        "id": "IWJv-Mahr_A3"
      }
    },
    {
      "cell_type": "code",
      "source": [
        "fig, ax = plt.subplots(ncols=2,figsize=(10,4))\n",
        "\n",
        "no_outlier.plot(kind='hist',bins=20,ax=ax[0])\n",
        "no_outlier.plot(kind='box',ax=ax[1])"
      ],
      "metadata": {
        "colab": {
          "base_uri": "https://localhost:8080/",
          "height": 385
        },
        "id": "V0y5VVnssHsc",
        "outputId": "bd0a16fc-d51d-4d52-9fac-7120be9c7053"
      },
      "execution_count": 47,
      "outputs": [
        {
          "output_type": "execute_result",
          "data": {
            "text/plain": [
              "<Axes: >"
            ]
          },
          "metadata": {},
          "execution_count": 47
        },
        {
          "output_type": "display_data",
          "data": {
            "text/plain": [
              "<Figure size 1000x400 with 2 Axes>"
            ],
            "image/png": "[encoded data removed]"
          },
          "metadata": {}
        }
      ]
    },
    {
      "cell_type": "code",
      "source": [
        "no_outlier.to_csv('RizkyChester.csv', index=False)"
      ],
      "metadata": {
        "id": "v0ZcQJsnlWCS"
      },
      "execution_count": 42,
      "outputs": []
    },
    {
      "cell_type": "markdown",
      "source": [
        "Mengconvert data yang telah dikeluarkan outliernya kedalam bentuk csv"
      ],
      "metadata": {
        "id": "oDrRLfTdmS8z"
      }
    },
    {
      "cell_type": "markdown",
      "source": [
        "## B.Pertanyaan\n",
        "\n",
        "1.Berapa rata-rata, median, dan modus dari data tersebut sebelum dihilangkan outliernya? Bagaimana kecerendungan pemusatan datanya? jelaskan jawabanmu!\n",
        "\n",
        "2.Sebelum melakukan extreme value analysis, kamu harus melakukan pengecekan skewness dari distribusi datanya. Apakah datanya skew atau normal? jelaskan jawabanmu!\n",
        "\n",
        "3.Ada dua teknik untuk melakukan extreme value analysis, teknik yang mana yang kamu pakai? berikan alasanmu berdasarkan data!\n",
        "\n"
      ],
      "metadata": {
        "id": "6uy46EwCoccR"
      }
    },
    {
      "cell_type": "markdown",
      "source": [
        "#### Jawaban\n",
        "\n",
        "1. Nilai Mean(rata-rata), Median,dan modusnya sebelum dihilangkan outliernya adalah nilai mean: 28.37, nilai median: 16.62 dan modus: 77.4\n",
        "\n",
        "2. Datanya merupakan data yang highly Skew karena memiliki nilai skewness sebesar 3.27 yang lebih besar dari 0.5\n",
        "\n",
        "3. Teknik extreme value analysis yang saya gunakan adalah Normal Distribution Z-Score, saya menggunakan teknik ini karena hasil data outliernya masih ada namun lebih sedikit dibandingkan dengan menggunakan Skew Distribution: Tukey Rule"
      ],
      "metadata": {
        "id": "cTRs_ZV5pGdp"
      }
    }
  ]
}