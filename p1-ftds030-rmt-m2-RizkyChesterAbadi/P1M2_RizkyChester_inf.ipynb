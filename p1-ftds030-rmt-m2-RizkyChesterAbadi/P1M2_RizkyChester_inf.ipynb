{
 "cells": [
  {
   "cell_type": "code",
   "execution_count": 1,
   "metadata": {},
   "outputs": [],
   "source": [
    "import pandas as pd\n",
    "import pickle as pkl\n",
    "import json as js"
   ]
  },
  {
   "cell_type": "markdown",
   "metadata": {},
   "source": [
    "### Model Inference"
   ]
  },
  {
   "cell_type": "code",
   "execution_count": null,
   "metadata": {},
   "outputs": [],
   "source": [
    "# Data Loading\n",
    "with open('list_num_feature.txt', 'r') as file_1:\n",
    "  listfeaturenum = json.load(file_1)\n",
    "\n",
    "with open('list_kat_feature.txt', 'r') as file_2:\n",
    "  listfeaturekat = json.load(file_2)\n",
    "\n",
    "with open('transformer.pkl', 'rb') as file_3:\n",
    "  transformer = pickle.load(file_3)\n",
    "\n",
    "with open('grid_pipeRF.pkl', 'rb') as file_4:\n",
    "  model_grid_pipeRF = pickle.load(file_5)"
   ]
  },
  {
   "cell_type": "code",
   "execution_count": null,
   "metadata": {},
   "outputs": [],
   "source": [
    "# Membuat data baru\n",
    "df_inf= {'sex': 'male',\n",
    "'age': 40, \n",
    "'height': 175, \n",
    "'weight': 70, \n",
    "'waistline': 81, \n",
    "'sight_left': 1.2, \n",
    "'sight_right': 1.0, \n",
    "'hear_left': 1.0, \n",
    "'hear_right': 1.0, \n",
    "'SBP': 115.0, \n",
    "'DBP': 75, \n",
    "'BLDS': 96.0, \n",
    "'tot_chole': 210.0, \n",
    "'HDL_chole': 45, \n",
    "'LDL_chole': 97, \n",
    "'triglyceride': 86.0, \n",
    "'hemoglobin': 14.7, \n",
    "'urine_protein': 1.0, \n",
    "'serum_creatinine': 0.6, \n",
    "'SGOT_AST': 19.0, \n",
    "'SGOT_ALT': 31.0, \n",
    "'gamma_GTP': 27.0, \n",
    "'SMK_stat_type_cd': 2.0,\n",
    "'DRK_YN': 'Y' \n",
    "    \n",
    "}\n",
    "\n",
    "df_inf = pd.Dataframe(df_inf)"
   ]
  },
  {
   "cell_type": "code",
   "execution_count": null,
   "metadata": {},
   "outputs": [],
   "source": [
    "# Memisahkan Kategori Kolom Kategori dan Numerical\n",
    "df_inf_num = df_inf[listfeaturenum]\n",
    "df_inf_cat = df_inf[listfeaturekat]\n",
    "df_inf_num"
   ]
  },
  {
   "cell_type": "code",
   "execution_count": null,
   "metadata": {},
   "outputs": [],
   "source": [
    "# Memprediksikan Menggunakan Model Terbaikyaitu Random Forest  \n",
    "y_pred_inf = grid_pipeRF.predict(df_inf)\n",
    "print('Rating:',y_pred_inf) #before\n",
    "print('Rating:',round(y_pred_inf[0])) #after"
   ]
  }
 ],
 "metadata": {
  "kernelspec": {
   "display_name": "base",
   "language": "python",
   "name": "python3"
  },
  "language_info": {
   "codemirror_mode": {
    "name": "ipython",
    "version": 3
   },
   "file_extension": ".py",
   "mimetype": "text/x-python",
   "name": "python",
   "nbconvert_exporter": "python",
   "pygments_lexer": "ipython3",
   "version": "3.9.18"
  }
 },
 "nbformat": 4,
 "nbformat_minor": 2
}
