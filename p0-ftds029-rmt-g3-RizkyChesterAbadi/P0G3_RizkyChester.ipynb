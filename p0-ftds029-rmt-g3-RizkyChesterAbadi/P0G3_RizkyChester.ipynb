{
 "cells": [
  {
   "cell_type": "markdown",
   "metadata": {},
   "source": [
    "# Graded Challenge 3\n",
    "\n",
    "Nama    : Rizky Chester Abadi\n",
    "\n",
    "Batch   : RMT-029\n",
    "\n",
    "Program ini bertujuan untuk pengambilan, pengolahan, dan analisis data dari data hasil webscrapping\n"
   ]
  },
  {
   "cell_type": "code",
   "execution_count": 7,
   "metadata": {},
   "outputs": [],
   "source": [
    "from bs4 import BeautifulSoup\n",
    "from selenium import webdriver\n",
    "\n",
    "from selenium.webdriver.chrome.service import Service as ChromeService\n",
    "from webdriver_manager.chrome import ChromeDriverManager\n",
    "\n",
    "import pandas as pd\n",
    "import time\n",
    "import numpy as np\n",
    "\n",
    "from scipy import stats\n",
    "import matplotlib.pyplot as plt\n",
    "import seaborn as sns"
   ]
  },
  {
   "cell_type": "markdown",
   "metadata": {},
   "source": [
    "Mengimport Ekstensi yang akan digunakan dan Webdriver untuk Webscrapping dan pengolahan data "
   ]
  },
  {
   "cell_type": "markdown",
   "metadata": {},
   "source": [
    "## A.Webscrapping"
   ]
  },
  {
   "cell_type": "code",
   "execution_count": 8,
   "metadata": {},
   "outputs": [],
   "source": [
    "#Mengambil data dari web yang ingin di scrapping\n",
    "url = 'https://www.tokopedia.com/search?navsource=&page=1&q=seblak&srp_component_id=02.01.00.00&srp_page_id=&srp_page_title=&st='\n",
    "driver = webdriver.Chrome() #Menjalankan Webdriver Chrome\n",
    "driver.get(url)\n",
    "html = driver.page_source\n",
    "\n",
    "soup = BeautifulSoup(html, \"html.parser\")\n",
    "\n",
    "# print(soup.prettify()[:700])"
   ]
  },
  {
   "cell_type": "markdown",
   "metadata": {},
   "source": [
    "menggunakan webdriver untuk mengakses website yang akan diambil datanya"
   ]
  },
  {
   "cell_type": "code",
   "execution_count": 9,
   "metadata": {},
   "outputs": [
    {
     "data": {
      "text/html": [
       "<div>\n",
       "<style scoped>\n",
       "    .dataframe tbody tr th:only-of-type {\n",
       "        vertical-align: middle;\n",
       "    }\n",
       "\n",
       "    .dataframe tbody tr th {\n",
       "        vertical-align: top;\n",
       "    }\n",
       "\n",
       "    .dataframe thead th {\n",
       "        text-align: right;\n",
       "    }\n",
       "</style>\n",
       "<table border=\"1\" class=\"dataframe\">\n",
       "  <thead>\n",
       "    <tr style=\"text-align: right;\">\n",
       "      <th></th>\n",
       "      <th>Nama Produk</th>\n",
       "      <th>Harga</th>\n",
       "      <th>Penjual</th>\n",
       "      <th>Kota Toko</th>\n",
       "      <th>Terjual</th>\n",
       "      <th>Rating Produk</th>\n",
       "    </tr>\n",
       "  </thead>\n",
       "  <tbody>\n",
       "    <tr>\n",
       "      <th>0</th>\n",
       "      <td>Kylafood Seblak Cup</td>\n",
       "      <td>Rp12.788</td>\n",
       "      <td>kylafood</td>\n",
       "      <td>Bandung</td>\n",
       "      <td>100+ terjual</td>\n",
       "      <td>4.7</td>\n",
       "    </tr>\n",
       "    <tr>\n",
       "      <th>1</th>\n",
       "      <td>Kylafood Mix Fav Selebgram Seblak Original &amp; B...</td>\n",
       "      <td>Rp47.840</td>\n",
       "      <td>kylafood</td>\n",
       "      <td>Bandung</td>\n",
       "      <td>100+ terjual</td>\n",
       "      <td>4.8</td>\n",
       "    </tr>\n",
       "    <tr>\n",
       "      <th>2</th>\n",
       "      <td>Pasar Keripik Kerupuk Seblak Mawar Mini Pedas ...</td>\n",
       "      <td>Rp28.500</td>\n",
       "      <td>Pasar Keripik Bandung</td>\n",
       "      <td>Bandung</td>\n",
       "      <td>17 terjual</td>\n",
       "      <td>5.0</td>\n",
       "    </tr>\n",
       "    <tr>\n",
       "      <th>3</th>\n",
       "      <td>Baso Aci Kriboow Special Keju Selera Martini</td>\n",
       "      <td>Rp25.500</td>\n",
       "      <td>Foodstocks</td>\n",
       "      <td>Jakarta Selatan</td>\n",
       "      <td>100+ terjual</td>\n",
       "      <td>4.9</td>\n",
       "    </tr>\n",
       "    <tr>\n",
       "      <th>4</th>\n",
       "      <td>Keripik Ubi Ungu Sari Roso</td>\n",
       "      <td>Rp26.000</td>\n",
       "      <td>Pisang Goreng Madu Bu Nanik</td>\n",
       "      <td>Jakarta Barat</td>\n",
       "      <td>250+ terjual</td>\n",
       "      <td>5.0</td>\n",
       "    </tr>\n",
       "    <tr>\n",
       "      <th>5</th>\n",
       "      <td>Seblak Kering Gurih 65gram - Cikuran 65gr</td>\n",
       "      <td>Rp10.965</td>\n",
       "      <td>Lidigeli</td>\n",
       "      <td>Kab. Garut</td>\n",
       "      <td>100+ terjual</td>\n",
       "      <td>5.0</td>\n",
       "    </tr>\n",
       "    <tr>\n",
       "      <th>6</th>\n",
       "      <td>Cimol Spicy Lava Kylafood</td>\n",
       "      <td>Rp27.075</td>\n",
       "      <td>kylafood</td>\n",
       "      <td>Bandung</td>\n",
       "      <td>750+ terjual</td>\n",
       "      <td>4.9</td>\n",
       "    </tr>\n",
       "    <tr>\n",
       "      <th>7</th>\n",
       "      <td>Seblak Instan Ceu Nthien Khas Bandung Rasana N...</td>\n",
       "      <td>Rp17.000</td>\n",
       "      <td>Central Seblak Nusantara</td>\n",
       "      <td>Tangerang Selatan</td>\n",
       "      <td>2rb+ terjual</td>\n",
       "      <td>4.9</td>\n",
       "    </tr>\n",
       "    <tr>\n",
       "      <th>8</th>\n",
       "      <td>Kylafood Seblak Cup</td>\n",
       "      <td>Rp12.788</td>\n",
       "      <td>kylafood</td>\n",
       "      <td>Bandung</td>\n",
       "      <td>100+ terjual</td>\n",
       "      <td>4.7</td>\n",
       "    </tr>\n",
       "  </tbody>\n",
       "</table>\n",
       "</div>"
      ],
      "text/plain": [
       "                                         Nama Produk     Harga  \\\n",
       "0                                Kylafood Seblak Cup  Rp12.788   \n",
       "1  Kylafood Mix Fav Selebgram Seblak Original & B...  Rp47.840   \n",
       "2  Pasar Keripik Kerupuk Seblak Mawar Mini Pedas ...  Rp28.500   \n",
       "3       Baso Aci Kriboow Special Keju Selera Martini  Rp25.500   \n",
       "4                         Keripik Ubi Ungu Sari Roso  Rp26.000   \n",
       "5          Seblak Kering Gurih 65gram - Cikuran 65gr  Rp10.965   \n",
       "6                          Cimol Spicy Lava Kylafood  Rp27.075   \n",
       "7  Seblak Instan Ceu Nthien Khas Bandung Rasana N...  Rp17.000   \n",
       "8                                Kylafood Seblak Cup  Rp12.788   \n",
       "\n",
       "                       Penjual          Kota Toko       Terjual Rating Produk  \n",
       "0                     kylafood            Bandung  100+ terjual           4.7  \n",
       "1                     kylafood            Bandung  100+ terjual           4.8  \n",
       "2        Pasar Keripik Bandung            Bandung    17 terjual           5.0  \n",
       "3                   Foodstocks    Jakarta Selatan  100+ terjual           4.9  \n",
       "4  Pisang Goreng Madu Bu Nanik      Jakarta Barat  250+ terjual           5.0  \n",
       "5                     Lidigeli         Kab. Garut  100+ terjual           5.0  \n",
       "6                     kylafood            Bandung  750+ terjual           4.9  \n",
       "7     Central Seblak Nusantara  Tangerang Selatan  2rb+ terjual           4.9  \n",
       "8                     kylafood            Bandung  100+ terjual           4.7  "
      ]
     },
     "execution_count": 9,
     "metadata": {},
     "output_type": "execute_result"
    }
   ],
   "source": [
    "# membuat variable sementara untuk data Nama Produk, Harga Produk, Penjual, Kota Toko, Banyaknya Terjual, dan Rating Produk \n",
    "Nama_Produk =[]\n",
    "Harga_Produk = []\n",
    "Penjual_Produk= []\n",
    "Kota_Produk= []\n",
    "Terjual_Produk= []\n",
    "Rating_Produk= []\n",
    "\n",
    "html = driver.page_source\n",
    "\n",
    "driver = webdriver.Chrome() #Menjalankan Webdriver Chrome\n",
    "soup = BeautifulSoup(html, \"html.parser\")\n",
    "\n",
    "time.sleep(3) #jeda 3 detik tiap load halaman\n",
    "\n",
    "#Looping untuk scrapping data di halaman 1-10\n",
    "for h in range(1,11):\n",
    "    url  =f\"https://www.tokopedia.com/search?navsource=&page={h}&q=seblak&srp_component_id=02.01.00.00&srp_page_id=&srp_page_title=&st=\"\n",
    "    driver.get(url)\n",
    "    html = driver.page_source\n",
    "    soup = BeautifulSoup(html,\"html.parser\")\n",
    "\n",
    "    table = soup.find('div',{\"class\": \"css-llwpbs\"})  \n",
    "    \n",
    "    # Function untuk scraping data dengan class tertentu\n",
    "    Produk = table.find_all('div',{\"class\":\"prd_link-product-name\"})\n",
    "    Harga = table.find_all('div',{\"class\":\"prd_link-product-price\"})\n",
    "    Penjual = table.find_all('span',{\"class\":\"prd_link-shop-name\"})\n",
    "    Kota = table.find_all('span',{\"class\":\"prd_link-shop-loc\"})\n",
    "    Terjual = table.find_all('span',{\"class\":\"prd_label-integrity\"})\n",
    "    Rating = table.find_all('span',{\"class\":\"prd_rating-average-text\"})\n",
    "\n",
    "    \n",
    "    for elem in Produk:\n",
    "        # extract text dari elemen\n",
    "        if elem != None:\n",
    "            text = elem.get_text()\n",
    "        else:\n",
    "            text = None\n",
    "\n",
    "        # append text to listNames\n",
    "        Nama_Produk.append(text)\n",
    "\n",
    "    for elem in Harga:\n",
    "        # extract text dari elemen\n",
    "        if elem != None:\n",
    "            text = elem.get_text()\n",
    "        else:\n",
    "            text = None\n",
    "\n",
    "        # append text to list\n",
    "        Harga_Produk.append(text)\n",
    "\n",
    "\n",
    "    for elem in Penjual:\n",
    "        # extract text dari elemen\n",
    "        if elem != None:\n",
    "            text = elem.get_text()\n",
    "        else:\n",
    "            text = None\n",
    "\n",
    "        # append text to list\n",
    "        Penjual_Produk.append(text)\n",
    "\n",
    "    for elem in Kota:\n",
    "         # extract text dari elemen\n",
    "        if elem != None:\n",
    "            text = elem.get_text()\n",
    "        else:\n",
    "            text = None\n",
    "\n",
    "        # append text to list\n",
    "        Kota_Produk.append(text)\n",
    "\n",
    "    for elem in Terjual:\n",
    "            # extract text dari elemen\n",
    "        if elem != None:\n",
    "            text = elem.get_text()\n",
    "        else:\n",
    "                text = None\n",
    "\n",
    "            # append text to list\n",
    "        Terjual_Produk.append(text)\n",
    "\n",
    "\n",
    "    for elem in Rating:\n",
    "            # extract text dari elemen\n",
    "        if elem != None:\n",
    "            text = elem.get_text()\n",
    "        else:\n",
    "            text = None\n",
    "\n",
    "            # append text to list\n",
    "        Rating_Produk.append(text)\n",
    "\n",
    "# menutup driver\n",
    "driver.quit()\n",
    "\n",
    "\n",
    "# Membuat Dataframe untuk menyimpan data hasil scraping\n",
    "df_seblak = pd.DataFrame()\n",
    "\n",
    "# Membuat Kolom baru untuk dataframe\n",
    "df_seblak['Nama Produk'] = Nama_Produk\n",
    "df_seblak['Harga'] = Harga_Produk\n",
    "df_seblak['Penjual'] = Penjual_Produk\n",
    "df_seblak['Kota Toko'] = Kota_Produk\n",
    "df_seblak['Terjual'] = Terjual_Produk\n",
    "df_seblak['Rating Produk'] = Rating_Produk\n",
    "\n",
    "df_seblak\n",
    "\n"
   ]
  },
  {
   "cell_type": "markdown",
   "metadata": {},
   "source": [
    "Hasil dari scraping dari 10 halaman tentang seblak tanpa missing value ada 10 data seblak yang didapat."
   ]
  },
  {
   "cell_type": "markdown",
   "metadata": {},
   "source": [
    "## B.Data Preparation"
   ]
  },
  {
   "cell_type": "code",
   "execution_count": 10,
   "metadata": {},
   "outputs": [
    {
     "data": {
      "text/html": [
       "<div>\n",
       "<style scoped>\n",
       "    .dataframe tbody tr th:only-of-type {\n",
       "        vertical-align: middle;\n",
       "    }\n",
       "\n",
       "    .dataframe tbody tr th {\n",
       "        vertical-align: top;\n",
       "    }\n",
       "\n",
       "    .dataframe thead th {\n",
       "        text-align: right;\n",
       "    }\n",
       "</style>\n",
       "<table border=\"1\" class=\"dataframe\">\n",
       "  <thead>\n",
       "    <tr style=\"text-align: right;\">\n",
       "      <th></th>\n",
       "      <th>Nama Produk</th>\n",
       "      <th>Harga</th>\n",
       "      <th>Penjual</th>\n",
       "      <th>Kota Toko</th>\n",
       "      <th>Terjual</th>\n",
       "      <th>Rating Produk</th>\n",
       "    </tr>\n",
       "  </thead>\n",
       "  <tbody>\n",
       "    <tr>\n",
       "      <th>0</th>\n",
       "      <td>Kylafood Seblak Cup</td>\n",
       "      <td>Rp12.788</td>\n",
       "      <td>kylafood</td>\n",
       "      <td>Bandung</td>\n",
       "      <td>100+ terjual</td>\n",
       "      <td>4.7</td>\n",
       "    </tr>\n",
       "    <tr>\n",
       "      <th>1</th>\n",
       "      <td>Kylafood Mix Fav Selebgram Seblak Original &amp; B...</td>\n",
       "      <td>Rp47.840</td>\n",
       "      <td>kylafood</td>\n",
       "      <td>Bandung</td>\n",
       "      <td>100+ terjual</td>\n",
       "      <td>4.8</td>\n",
       "    </tr>\n",
       "    <tr>\n",
       "      <th>2</th>\n",
       "      <td>Pasar Keripik Kerupuk Seblak Mawar Mini Pedas ...</td>\n",
       "      <td>Rp28.500</td>\n",
       "      <td>Pasar Keripik Bandung</td>\n",
       "      <td>Bandung</td>\n",
       "      <td>17 terjual</td>\n",
       "      <td>5.0</td>\n",
       "    </tr>\n",
       "    <tr>\n",
       "      <th>3</th>\n",
       "      <td>Baso Aci Kriboow Special Keju Selera Martini</td>\n",
       "      <td>Rp25.500</td>\n",
       "      <td>Foodstocks</td>\n",
       "      <td>Jakarta Selatan</td>\n",
       "      <td>100+ terjual</td>\n",
       "      <td>4.9</td>\n",
       "    </tr>\n",
       "    <tr>\n",
       "      <th>4</th>\n",
       "      <td>Keripik Ubi Ungu Sari Roso</td>\n",
       "      <td>Rp26.000</td>\n",
       "      <td>Pisang Goreng Madu Bu Nanik</td>\n",
       "      <td>Jakarta Barat</td>\n",
       "      <td>250+ terjual</td>\n",
       "      <td>5.0</td>\n",
       "    </tr>\n",
       "  </tbody>\n",
       "</table>\n",
       "</div>"
      ],
      "text/plain": [
       "                                         Nama Produk     Harga  \\\n",
       "0                                Kylafood Seblak Cup  Rp12.788   \n",
       "1  Kylafood Mix Fav Selebgram Seblak Original & B...  Rp47.840   \n",
       "2  Pasar Keripik Kerupuk Seblak Mawar Mini Pedas ...  Rp28.500   \n",
       "3       Baso Aci Kriboow Special Keju Selera Martini  Rp25.500   \n",
       "4                         Keripik Ubi Ungu Sari Roso  Rp26.000   \n",
       "\n",
       "                       Penjual        Kota Toko       Terjual Rating Produk  \n",
       "0                     kylafood          Bandung  100+ terjual           4.7  \n",
       "1                     kylafood          Bandung  100+ terjual           4.8  \n",
       "2        Pasar Keripik Bandung          Bandung    17 terjual           5.0  \n",
       "3                   Foodstocks  Jakarta Selatan  100+ terjual           4.9  \n",
       "4  Pisang Goreng Madu Bu Nanik    Jakarta Barat  250+ terjual           5.0  "
      ]
     },
     "execution_count": 10,
     "metadata": {},
     "output_type": "execute_result"
    }
   ],
   "source": [
    "df_seblak.head() #menampilkan beberapa list data dari data yang telah diambil mulai dari paling atas"
   ]
  },
  {
   "cell_type": "markdown",
   "metadata": {},
   "source": [
    "menampilkan beberapa list data dari data frame df_seblak yang didapat dari scraping dari pencarian teratas"
   ]
  },
  {
   "cell_type": "code",
   "execution_count": 11,
   "metadata": {},
   "outputs": [
    {
     "data": {
      "text/html": [
       "<div>\n",
       "<style scoped>\n",
       "    .dataframe tbody tr th:only-of-type {\n",
       "        vertical-align: middle;\n",
       "    }\n",
       "\n",
       "    .dataframe tbody tr th {\n",
       "        vertical-align: top;\n",
       "    }\n",
       "\n",
       "    .dataframe thead th {\n",
       "        text-align: right;\n",
       "    }\n",
       "</style>\n",
       "<table border=\"1\" class=\"dataframe\">\n",
       "  <thead>\n",
       "    <tr style=\"text-align: right;\">\n",
       "      <th></th>\n",
       "      <th>Nama Produk</th>\n",
       "      <th>Harga</th>\n",
       "      <th>Penjual</th>\n",
       "      <th>Kota Toko</th>\n",
       "      <th>Terjual</th>\n",
       "      <th>Rating Produk</th>\n",
       "    </tr>\n",
       "  </thead>\n",
       "  <tbody>\n",
       "    <tr>\n",
       "      <th>4</th>\n",
       "      <td>Keripik Ubi Ungu Sari Roso</td>\n",
       "      <td>Rp26.000</td>\n",
       "      <td>Pisang Goreng Madu Bu Nanik</td>\n",
       "      <td>Jakarta Barat</td>\n",
       "      <td>250+ terjual</td>\n",
       "      <td>5.0</td>\n",
       "    </tr>\n",
       "    <tr>\n",
       "      <th>5</th>\n",
       "      <td>Seblak Kering Gurih 65gram - Cikuran 65gr</td>\n",
       "      <td>Rp10.965</td>\n",
       "      <td>Lidigeli</td>\n",
       "      <td>Kab. Garut</td>\n",
       "      <td>100+ terjual</td>\n",
       "      <td>5.0</td>\n",
       "    </tr>\n",
       "    <tr>\n",
       "      <th>6</th>\n",
       "      <td>Cimol Spicy Lava Kylafood</td>\n",
       "      <td>Rp27.075</td>\n",
       "      <td>kylafood</td>\n",
       "      <td>Bandung</td>\n",
       "      <td>750+ terjual</td>\n",
       "      <td>4.9</td>\n",
       "    </tr>\n",
       "    <tr>\n",
       "      <th>7</th>\n",
       "      <td>Seblak Instan Ceu Nthien Khas Bandung Rasana N...</td>\n",
       "      <td>Rp17.000</td>\n",
       "      <td>Central Seblak Nusantara</td>\n",
       "      <td>Tangerang Selatan</td>\n",
       "      <td>2rb+ terjual</td>\n",
       "      <td>4.9</td>\n",
       "    </tr>\n",
       "    <tr>\n",
       "      <th>8</th>\n",
       "      <td>Kylafood Seblak Cup</td>\n",
       "      <td>Rp12.788</td>\n",
       "      <td>kylafood</td>\n",
       "      <td>Bandung</td>\n",
       "      <td>100+ terjual</td>\n",
       "      <td>4.7</td>\n",
       "    </tr>\n",
       "  </tbody>\n",
       "</table>\n",
       "</div>"
      ],
      "text/plain": [
       "                                         Nama Produk     Harga  \\\n",
       "4                         Keripik Ubi Ungu Sari Roso  Rp26.000   \n",
       "5          Seblak Kering Gurih 65gram - Cikuran 65gr  Rp10.965   \n",
       "6                          Cimol Spicy Lava Kylafood  Rp27.075   \n",
       "7  Seblak Instan Ceu Nthien Khas Bandung Rasana N...  Rp17.000   \n",
       "8                                Kylafood Seblak Cup  Rp12.788   \n",
       "\n",
       "                       Penjual          Kota Toko       Terjual Rating Produk  \n",
       "4  Pisang Goreng Madu Bu Nanik      Jakarta Barat  250+ terjual           5.0  \n",
       "5                     Lidigeli         Kab. Garut  100+ terjual           5.0  \n",
       "6                     kylafood            Bandung  750+ terjual           4.9  \n",
       "7     Central Seblak Nusantara  Tangerang Selatan  2rb+ terjual           4.9  \n",
       "8                     kylafood            Bandung  100+ terjual           4.7  "
      ]
     },
     "execution_count": 11,
     "metadata": {},
     "output_type": "execute_result"
    }
   ],
   "source": [
    "df_seblak.tail() #menampilkan beberapa list data yang didapat dari bawah"
   ]
  },
  {
   "cell_type": "markdown",
   "metadata": {},
   "source": [
    "menampilkan beberapa list data dari data frame df_seblak yang didapat dari scraping dari paling bawah"
   ]
  },
  {
   "cell_type": "code",
   "execution_count": 21,
   "metadata": {},
   "outputs": [
    {
     "data": {
      "text/html": [
       "<div>\n",
       "<style scoped>\n",
       "    .dataframe tbody tr th:only-of-type {\n",
       "        vertical-align: middle;\n",
       "    }\n",
       "\n",
       "    .dataframe tbody tr th {\n",
       "        vertical-align: top;\n",
       "    }\n",
       "\n",
       "    .dataframe thead th {\n",
       "        text-align: right;\n",
       "    }\n",
       "</style>\n",
       "<table border=\"1\" class=\"dataframe\">\n",
       "  <thead>\n",
       "    <tr style=\"text-align: right;\">\n",
       "      <th></th>\n",
       "      <th>Nama Produk</th>\n",
       "      <th>Harga</th>\n",
       "      <th>Penjual</th>\n",
       "      <th>Kota Toko</th>\n",
       "      <th>Terjual</th>\n",
       "      <th>Rating Produk</th>\n",
       "    </tr>\n",
       "  </thead>\n",
       "  <tbody>\n",
       "    <tr>\n",
       "      <th>0</th>\n",
       "      <td>Kylafood Seblak Cup</td>\n",
       "      <td>Rp12.788</td>\n",
       "      <td>kylafood</td>\n",
       "      <td>Bandung</td>\n",
       "      <td>100+ terjual</td>\n",
       "      <td>4.7</td>\n",
       "    </tr>\n",
       "    <tr>\n",
       "      <th>1</th>\n",
       "      <td>Kylafood Mix Fav Selebgram Seblak Original &amp; B...</td>\n",
       "      <td>Rp47.840</td>\n",
       "      <td>kylafood</td>\n",
       "      <td>Bandung</td>\n",
       "      <td>100+ terjual</td>\n",
       "      <td>4.8</td>\n",
       "    </tr>\n",
       "    <tr>\n",
       "      <th>2</th>\n",
       "      <td>Pasar Keripik Kerupuk Seblak Mawar Mini Pedas ...</td>\n",
       "      <td>Rp28.500</td>\n",
       "      <td>Pasar Keripik Bandung</td>\n",
       "      <td>Bandung</td>\n",
       "      <td>17 terjual</td>\n",
       "      <td>5.0</td>\n",
       "    </tr>\n",
       "    <tr>\n",
       "      <th>3</th>\n",
       "      <td>Baso Aci Kriboow Special Keju Selera Martini</td>\n",
       "      <td>Rp25.500</td>\n",
       "      <td>Foodstocks</td>\n",
       "      <td>Jakarta Selatan</td>\n",
       "      <td>100+ terjual</td>\n",
       "      <td>4.9</td>\n",
       "    </tr>\n",
       "    <tr>\n",
       "      <th>4</th>\n",
       "      <td>Keripik Ubi Ungu Sari Roso</td>\n",
       "      <td>Rp26.000</td>\n",
       "      <td>Pisang Goreng Madu Bu Nanik</td>\n",
       "      <td>Jakarta Barat</td>\n",
       "      <td>250+ terjual</td>\n",
       "      <td>5.0</td>\n",
       "    </tr>\n",
       "    <tr>\n",
       "      <th>5</th>\n",
       "      <td>Seblak Kering Gurih 65gram - Cikuran 65gr</td>\n",
       "      <td>Rp10.965</td>\n",
       "      <td>Lidigeli</td>\n",
       "      <td>Kab. Garut</td>\n",
       "      <td>100+ terjual</td>\n",
       "      <td>5.0</td>\n",
       "    </tr>\n",
       "    <tr>\n",
       "      <th>6</th>\n",
       "      <td>Cimol Spicy Lava Kylafood</td>\n",
       "      <td>Rp27.075</td>\n",
       "      <td>kylafood</td>\n",
       "      <td>Bandung</td>\n",
       "      <td>750+ terjual</td>\n",
       "      <td>4.9</td>\n",
       "    </tr>\n",
       "    <tr>\n",
       "      <th>7</th>\n",
       "      <td>Seblak Instan Ceu Nthien Khas Bandung Rasana N...</td>\n",
       "      <td>Rp17.000</td>\n",
       "      <td>Central Seblak Nusantara</td>\n",
       "      <td>Tangerang Selatan</td>\n",
       "      <td>2rb+ terjual</td>\n",
       "      <td>4.9</td>\n",
       "    </tr>\n",
       "    <tr>\n",
       "      <th>8</th>\n",
       "      <td>Kylafood Seblak Cup</td>\n",
       "      <td>Rp12.788</td>\n",
       "      <td>kylafood</td>\n",
       "      <td>Bandung</td>\n",
       "      <td>100+ terjual</td>\n",
       "      <td>4.7</td>\n",
       "    </tr>\n",
       "  </tbody>\n",
       "</table>\n",
       "</div>"
      ],
      "text/plain": [
       "                                         Nama Produk     Harga  \\\n",
       "0                                Kylafood Seblak Cup  Rp12.788   \n",
       "1  Kylafood Mix Fav Selebgram Seblak Original & B...  Rp47.840   \n",
       "2  Pasar Keripik Kerupuk Seblak Mawar Mini Pedas ...  Rp28.500   \n",
       "3       Baso Aci Kriboow Special Keju Selera Martini  Rp25.500   \n",
       "4                         Keripik Ubi Ungu Sari Roso  Rp26.000   \n",
       "5          Seblak Kering Gurih 65gram - Cikuran 65gr  Rp10.965   \n",
       "6                          Cimol Spicy Lava Kylafood  Rp27.075   \n",
       "7  Seblak Instan Ceu Nthien Khas Bandung Rasana N...  Rp17.000   \n",
       "8                                Kylafood Seblak Cup  Rp12.788   \n",
       "\n",
       "                       Penjual          Kota Toko       Terjual Rating Produk  \n",
       "0                     kylafood            Bandung  100+ terjual           4.7  \n",
       "1                     kylafood            Bandung  100+ terjual           4.8  \n",
       "2        Pasar Keripik Bandung            Bandung    17 terjual           5.0  \n",
       "3                   Foodstocks    Jakarta Selatan  100+ terjual           4.9  \n",
       "4  Pisang Goreng Madu Bu Nanik      Jakarta Barat  250+ terjual           5.0  \n",
       "5                     Lidigeli         Kab. Garut  100+ terjual           5.0  \n",
       "6                     kylafood            Bandung  750+ terjual           4.9  \n",
       "7     Central Seblak Nusantara  Tangerang Selatan  2rb+ terjual           4.9  \n",
       "8                     kylafood            Bandung  100+ terjual           4.7  "
      ]
     },
     "execution_count": 21,
     "metadata": {},
     "output_type": "execute_result"
    }
   ],
   "source": [
    "df_seblak_clean =df_seblak.dropna() #syntax untuk cek missing value dan menghapus data yang hilang dengan dropna\n",
    "df_seblak_clean"
   ]
  },
  {
   "cell_type": "markdown",
   "metadata": {},
   "source": [
    "hasil dari cek missing value menggunakan dropna, sudah tidak ada data dengan value yang kosong"
   ]
  },
  {
   "cell_type": "code",
   "execution_count": 22,
   "metadata": {},
   "outputs": [],
   "source": [
    "#Menghilangkan Simbol-simbol dalam kolom Harga\n",
    "df_seblak_clean['Harga'] = df_seblak_clean['Harga'].str.replace(r'\\D', '', regex=True).astype(int)\n"
   ]
  },
  {
   "cell_type": "markdown",
   "metadata": {},
   "source": [
    "Menghilangkan simbol- simbol dalam kolom harga agar berupa angka saja dan menjadikan tipe data menjadi int"
   ]
  },
  {
   "cell_type": "code",
   "execution_count": 23,
   "metadata": {},
   "outputs": [],
   "source": [
    "#Menghilangkan Simbol + dan str terjual dalam kolom Terjual\n",
    "df_seblak_clean['Terjual'] = df_seblak_clean['Terjual'].str.replace(r' terjual', '')"
   ]
  },
  {
   "cell_type": "markdown",
   "metadata": {},
   "source": [
    "Menghilangkan Kata terjual dari kolom Terjual"
   ]
  },
  {
   "cell_type": "code",
   "execution_count": 24,
   "metadata": {},
   "outputs": [],
   "source": [
    "df_seblak_clean['Terjual'] = df_seblak_clean['Terjual'].str.replace(r'rb', '000')"
   ]
  },
  {
   "cell_type": "markdown",
   "metadata": {},
   "source": [
    "Menghilangkan kata rb dari kolom Terjual dan merubahnya menjadi 000"
   ]
  },
  {
   "cell_type": "code",
   "execution_count": 25,
   "metadata": {},
   "outputs": [],
   "source": [
    "df_seblak_clean['Terjual'] = df_seblak_clean['Terjual'].str.replace(r'\\+', '', regex=True).astype(int)"
   ]
  },
  {
   "cell_type": "markdown",
   "metadata": {},
   "source": [
    "menghilangkan simbol + dari kolom Terjual dan merubah tipe data-datanya menjadi int"
   ]
  },
  {
   "cell_type": "code",
   "execution_count": 26,
   "metadata": {},
   "outputs": [],
   "source": [
    "df_seblak_clean['Rating Produk'] = df_seblak_clean['Rating Produk'].str.replace(r'\\D', '', regex=True).astype(int)"
   ]
  },
  {
   "cell_type": "markdown",
   "metadata": {},
   "source": [
    "Menghilangkan simbol-simbol dari kolom Rating Produk dan merubahnya menjadi int"
   ]
  },
  {
   "cell_type": "code",
   "execution_count": 27,
   "metadata": {},
   "outputs": [
    {
     "data": {
      "text/html": [
       "<div>\n",
       "<style scoped>\n",
       "    .dataframe tbody tr th:only-of-type {\n",
       "        vertical-align: middle;\n",
       "    }\n",
       "\n",
       "    .dataframe tbody tr th {\n",
       "        vertical-align: top;\n",
       "    }\n",
       "\n",
       "    .dataframe thead th {\n",
       "        text-align: right;\n",
       "    }\n",
       "</style>\n",
       "<table border=\"1\" class=\"dataframe\">\n",
       "  <thead>\n",
       "    <tr style=\"text-align: right;\">\n",
       "      <th></th>\n",
       "      <th>Nama Produk</th>\n",
       "      <th>Harga</th>\n",
       "      <th>Penjual</th>\n",
       "      <th>Kota Toko</th>\n",
       "      <th>Terjual</th>\n",
       "      <th>Rating Produk</th>\n",
       "    </tr>\n",
       "  </thead>\n",
       "  <tbody>\n",
       "    <tr>\n",
       "      <th>0</th>\n",
       "      <td>Kylafood Seblak Cup</td>\n",
       "      <td>12788</td>\n",
       "      <td>kylafood</td>\n",
       "      <td>Bandung</td>\n",
       "      <td>100</td>\n",
       "      <td>47</td>\n",
       "    </tr>\n",
       "    <tr>\n",
       "      <th>1</th>\n",
       "      <td>Kylafood Mix Fav Selebgram Seblak Original &amp; B...</td>\n",
       "      <td>47840</td>\n",
       "      <td>kylafood</td>\n",
       "      <td>Bandung</td>\n",
       "      <td>100</td>\n",
       "      <td>48</td>\n",
       "    </tr>\n",
       "    <tr>\n",
       "      <th>2</th>\n",
       "      <td>Pasar Keripik Kerupuk Seblak Mawar Mini Pedas ...</td>\n",
       "      <td>28500</td>\n",
       "      <td>Pasar Keripik Bandung</td>\n",
       "      <td>Bandung</td>\n",
       "      <td>17</td>\n",
       "      <td>50</td>\n",
       "    </tr>\n",
       "    <tr>\n",
       "      <th>3</th>\n",
       "      <td>Baso Aci Kriboow Special Keju Selera Martini</td>\n",
       "      <td>25500</td>\n",
       "      <td>Foodstocks</td>\n",
       "      <td>Jakarta Selatan</td>\n",
       "      <td>100</td>\n",
       "      <td>49</td>\n",
       "    </tr>\n",
       "    <tr>\n",
       "      <th>4</th>\n",
       "      <td>Keripik Ubi Ungu Sari Roso</td>\n",
       "      <td>26000</td>\n",
       "      <td>Pisang Goreng Madu Bu Nanik</td>\n",
       "      <td>Jakarta Barat</td>\n",
       "      <td>250</td>\n",
       "      <td>50</td>\n",
       "    </tr>\n",
       "    <tr>\n",
       "      <th>5</th>\n",
       "      <td>Seblak Kering Gurih 65gram - Cikuran 65gr</td>\n",
       "      <td>10965</td>\n",
       "      <td>Lidigeli</td>\n",
       "      <td>Kab. Garut</td>\n",
       "      <td>100</td>\n",
       "      <td>50</td>\n",
       "    </tr>\n",
       "    <tr>\n",
       "      <th>6</th>\n",
       "      <td>Cimol Spicy Lava Kylafood</td>\n",
       "      <td>27075</td>\n",
       "      <td>kylafood</td>\n",
       "      <td>Bandung</td>\n",
       "      <td>750</td>\n",
       "      <td>49</td>\n",
       "    </tr>\n",
       "    <tr>\n",
       "      <th>7</th>\n",
       "      <td>Seblak Instan Ceu Nthien Khas Bandung Rasana N...</td>\n",
       "      <td>17000</td>\n",
       "      <td>Central Seblak Nusantara</td>\n",
       "      <td>Tangerang Selatan</td>\n",
       "      <td>2000</td>\n",
       "      <td>49</td>\n",
       "    </tr>\n",
       "    <tr>\n",
       "      <th>8</th>\n",
       "      <td>Kylafood Seblak Cup</td>\n",
       "      <td>12788</td>\n",
       "      <td>kylafood</td>\n",
       "      <td>Bandung</td>\n",
       "      <td>100</td>\n",
       "      <td>47</td>\n",
       "    </tr>\n",
       "  </tbody>\n",
       "</table>\n",
       "</div>"
      ],
      "text/plain": [
       "                                         Nama Produk  Harga  \\\n",
       "0                                Kylafood Seblak Cup  12788   \n",
       "1  Kylafood Mix Fav Selebgram Seblak Original & B...  47840   \n",
       "2  Pasar Keripik Kerupuk Seblak Mawar Mini Pedas ...  28500   \n",
       "3       Baso Aci Kriboow Special Keju Selera Martini  25500   \n",
       "4                         Keripik Ubi Ungu Sari Roso  26000   \n",
       "5          Seblak Kering Gurih 65gram - Cikuran 65gr  10965   \n",
       "6                          Cimol Spicy Lava Kylafood  27075   \n",
       "7  Seblak Instan Ceu Nthien Khas Bandung Rasana N...  17000   \n",
       "8                                Kylafood Seblak Cup  12788   \n",
       "\n",
       "                       Penjual          Kota Toko  Terjual  Rating Produk  \n",
       "0                     kylafood            Bandung      100             47  \n",
       "1                     kylafood            Bandung      100             48  \n",
       "2        Pasar Keripik Bandung            Bandung       17             50  \n",
       "3                   Foodstocks    Jakarta Selatan      100             49  \n",
       "4  Pisang Goreng Madu Bu Nanik      Jakarta Barat      250             50  \n",
       "5                     Lidigeli         Kab. Garut      100             50  \n",
       "6                     kylafood            Bandung      750             49  \n",
       "7     Central Seblak Nusantara  Tangerang Selatan     2000             49  \n",
       "8                     kylafood            Bandung      100             47  "
      ]
     },
     "execution_count": 27,
     "metadata": {},
     "output_type": "execute_result"
    }
   ],
   "source": [
    "df_seblak_clean"
   ]
  },
  {
   "cell_type": "markdown",
   "metadata": {},
   "source": [
    "Dataframe df_seblak_clean setelah data-data angkanya dirubah menjadi int"
   ]
  },
  {
   "cell_type": "code",
   "execution_count": null,
   "metadata": {},
   "outputs": [
    {
     "name": "stdout",
     "output_type": "stream",
     "text": [
      "Nama Produk      object\n",
      "Harga             int32\n",
      "Penjual          object\n",
      "Kota Toko        object\n",
      "Terjual           int32\n",
      "Rating Produk     int32\n",
      "dtype: object\n"
     ]
    }
   ],
   "source": [
    "print(df_seblak_clean.dtypes)"
   ]
  },
  {
   "cell_type": "markdown",
   "metadata": {},
   "source": [
    "Melakukan cek tipe data dalam kolom-kolom df_seblak_clean"
   ]
  },
  {
   "cell_type": "markdown",
   "metadata": {},
   "source": [
    "## C.Business Understanding/Problem Statement"
   ]
  },
  {
   "cell_type": "markdown",
   "metadata": {},
   "source": [
    "Membuat problem statement berdasarkan S M A R T berdasarkan data yang telah didapat dan diolah produk seblak dalam website tokopedia.\n",
    "    Beberapa Produk dari Kylafood lebih banyak terjual dari kota Bandung dan begitu juga produk dari Central Seblak Nusantara Tangerang Selatan, untuk kota Jakarta  dan sekitarnya penjualannya masih kalah padahal beberapa memiliki rating produk lebih tinggi.\n",
    "\n",
    "Specific: Bagian Marketing pemilik toko yang barangnya kurang laku terjual perlu mencontoh dan mereapkan bagaimana toko lain menjual produk seblaknya yang menjual dengan porsi besar dan diskon\n",
    "\n",
    "Measurable: Menambahkan item seblak yang dijual dalam bentuk paket dengan beberapa dan menjual dengan harga lebih murah 5% dibandingkan dengan saat dijual per itemnya \n",
    "\n",
    "Achievable: berdasarkan dengan pemilihan paket seblak yang tepat dan varian seblak dalam paket yang ditambahkan dapat meningkatkan penjualan sebesar 10%\n",
    "\n",
    "Relevant: Mengurangi jumlah penjualan per item dan lebih banyak menjual per paket Seblak lebih banyak di cari oleh konsumen \n",
    "\n",
    "Time Bound:Dalam satu quartal kedepan berupaya untuk meningkatkan penjualan sebesar 10%\n"
   ]
  },
  {
   "cell_type": "markdown",
   "metadata": {},
   "source": [
    "## D.Analysis"
   ]
  },
  {
   "cell_type": "markdown",
   "metadata": {},
   "source": [
    "1. Mengitung rata-rata, median, standar deviasi, skewness, dan kurtosis dari kolom harga, banyak produk terjual, dan rating. Dan menyertakan insight dari apa saja yang bisa kamu dapatkan khususnya terkait dengan produk seblak dan datanya (distribusi dan kecenderungan ada/tidaknya outlier)"
   ]
  },
  {
   "cell_type": "code",
   "execution_count": null,
   "metadata": {},
   "outputs": [
    {
     "name": "stdout",
     "output_type": "stream",
     "text": [
      "harga rata-rata: 31666.0\n",
      "Nilai tengah dari Harga: 19660.0\n",
      "Standar Deviasi dari Harga: 28272.493941206456\n",
      "Skewness:1.921182778185771\n"
     ]
    }
   ],
   "source": [
    "# Menghitung mean, median, modus dari kolom Harga\n",
    "mean_harga = round(df_seblak_clean['Harga'].mean(),0)\n",
    "median_harga = round(df_seblak_clean['Harga'].median(),0)\n",
    "std_harga = df_seblak_clean['Harga'].std()\n",
    "\n",
    "print('harga rata-rata:', mean_harga)\n",
    "print('Nilai tengah dari Harga:', median_harga)\n",
    "print('Standar Deviasi dari Harga:', std_harga)\n",
    "print(f\"Skewness:{df_seblak_clean['Harga'].skew()}\" )"
   ]
  },
  {
   "cell_type": "markdown",
   "metadata": {},
   "source": [
    "Hasil perhitungan dari kolom Harga nilai rata-rata dan standar deviasi mendekati, sedangkan nilai median sedikit jauh diatas. Nilai skewness 1.92\n"
   ]
  },
  {
   "cell_type": "code",
   "execution_count": null,
   "metadata": {},
   "outputs": [
    {
     "name": "stdout",
     "output_type": "stream",
     "text": [
      "rata-rata produk terjual: 978.0\n",
      "Nilai tengah dari Produk terjual: 250.0\n",
      "Standar Deviasi dari Produk terjual: 1315.9473520370536\n",
      "Skewness:1.582109631507529\n"
     ]
    }
   ],
   "source": [
    "# Menghitung mean, median, modus dari kolom Terjual\n",
    "mean_terjual = round(df_seblak_clean['Terjual'].mean(),0)\n",
    "median_terjual = round(df_seblak_clean['Terjual'].median(),0)\n",
    "std_terjual = df_seblak_clean['Terjual'].std()\n",
    "\n",
    "print('rata-rata produk terjual:', mean_terjual)\n",
    "print('Nilai tengah dari Produk terjual:', median_terjual)\n",
    "print('Standar Deviasi dari Produk terjual:', std_terjual)\n",
    "print(f\"Skewness:{df_seblak_clean['Terjual'].skew()}\" )"
   ]
  },
  {
   "cell_type": "markdown",
   "metadata": {},
   "source": [
    "Hasil perhitungan dari kolom Terjual. nilai mean dan standar deviasi mendekati, sedangkan nilai median sedikit jauh dibawah. Nilai Skewness 1.58"
   ]
  },
  {
   "cell_type": "code",
   "execution_count": null,
   "metadata": {},
   "outputs": [
    {
     "name": "stdout",
     "output_type": "stream",
     "text": [
      "rata-rata rating produk: 49.0\n",
      "Nilai tengah dari rating produk: 49.0\n",
      "Standar Deviasi dari rating produk: 0.8755950357709131\n",
      "Skewness:-0.2234505289774602\n"
     ]
    }
   ],
   "source": [
    "# Menghitung mean, median, modus dari kolom Rating Pro\n",
    "mean_rating = round(df_seblak_clean['Rating Produk'].mean(),0)\n",
    "median_rating = round(df_seblak_clean['Rating Produk'].median(),0)\n",
    "std_rating = df_seblak_clean['Rating Produk'].std()\n",
    "\n",
    "\n",
    "print('rata-rata rating produk:', mean_rating)\n",
    "print('Nilai tengah dari rating produk:', median_rating)\n",
    "print('Standar Deviasi dari rating produk:', std_rating)\n",
    "print(f\"Skewness:{df_seblak_clean['Rating Produk'].skew()}\" )"
   ]
  },
  {
   "cell_type": "markdown",
   "metadata": {},
   "source": [
    "Hasil perhitungan dari kolom Rating Produk nilai mean,median sama, hasi standar deviasi 0.8 dan skewness -0.2"
   ]
  },
  {
   "cell_type": "markdown",
   "metadata": {},
   "source": [
    "2. Potensi minimum dan maksimum pendapatan jika menjual produk seblak dilihat dengan data yang telah didapat dengan kondisi terdistribusi normal dan menggunakan Confidence Interval."
   ]
  },
  {
   "cell_type": "code",
   "execution_count": null,
   "metadata": {},
   "outputs": [
    {
     "name": "stdout",
     "output_type": "stream",
     "text": [
      "Lower Limit: 162.2823684330922\n",
      "Upper Limit: 1793.5176315669078\n"
     ]
    }
   ],
   "source": [
    "# Menghitung potensi maksimum dan potensi minimum menggunakan confidence interval\n",
    "\n",
    "\n",
    "std = df_seblak_clean['Terjual'].std()\n",
    "N= len(df_seblak_clean)\n",
    "low, up = stats.norm.interval(0.95,loc=df_seblak_clean['Terjual'].mean(),scale=std_terjual/np.sqrt(N))\n",
    "print('Lower Limit:',low)\n",
    "print('Upper Limit:',up)"
   ]
  },
  {
   "cell_type": "markdown",
   "metadata": {},
   "source": [
    "Potensi maksimum yang didapat sebesar 162.29(pembulatan) dan potensi minimum  sebesar 1793.52(pembulatan) jika menjual seblak lewat tokopedia"
   ]
  },
  {
   "cell_type": "markdown",
   "metadata": {},
   "source": [
    "3. Barang di Jabodetabek dan di luar Jabodetabek memiliki perbedaan penjualan. Jika dijelaskan dengan hipotesis menggunakan Hipotesis Two Sample Test dan Independet:\n",
    "h0 : penjualan barang di jabodetabek dan di luar jabodetabek tidak berbeda jauh\n",
    "h1 : penjualan barang di jabodetabek dan di luar jabodetabek sangat berbeda jauh\n"
   ]
  },
  {
   "cell_type": "code",
   "execution_count": null,
   "metadata": {},
   "outputs": [],
   "source": [
    "# Terjual atau Penjualan Bulanan\n",
    "#Membuat List yang termasuk Jabodetabek dan bukan dengan groupby\n",
    "filter_jkt = df_seblak_clean[df_seblak_clean['Kota Toko'].isin(['Tangerang Selatan','Jakarta Selatan','Jakarta Barat','Kab. Bogor'])]\n",
    "filter_nonjkt = df_seblak_clean[df_seblak_clean['Kota Toko'].isin(['Bandung','Kab. Garut','Tasikmalaya'])]\n",
    "\n",
    "Jabodetabek = filter_jkt.groupby('Kota Toko').agg({'Terjual': 'mean', 'Harga': 'mean', 'Rating Produk': 'mean'})\n",
    "Non_Jabodetabek = filter_nonjkt.groupby('Kota Toko').agg({'Terjual': 'mean', 'Harga': 'mean', 'Rating Produk': 'mean'})\n",
    "\n",
    "\n",
    "\n"
   ]
  },
  {
   "cell_type": "code",
   "execution_count": null,
   "metadata": {},
   "outputs": [
    {
     "data": {
      "text/html": [
       "<div>\n",
       "<style scoped>\n",
       "    .dataframe tbody tr th:only-of-type {\n",
       "        vertical-align: middle;\n",
       "    }\n",
       "\n",
       "    .dataframe tbody tr th {\n",
       "        vertical-align: top;\n",
       "    }\n",
       "\n",
       "    .dataframe thead th {\n",
       "        text-align: right;\n",
       "    }\n",
       "</style>\n",
       "<table border=\"1\" class=\"dataframe\">\n",
       "  <thead>\n",
       "    <tr style=\"text-align: right;\">\n",
       "      <th></th>\n",
       "      <th>Terjual</th>\n",
       "      <th>Harga</th>\n",
       "      <th>Rating Produk</th>\n",
       "    </tr>\n",
       "    <tr>\n",
       "      <th>Kota Toko</th>\n",
       "      <th></th>\n",
       "      <th></th>\n",
       "      <th></th>\n",
       "    </tr>\n",
       "  </thead>\n",
       "  <tbody>\n",
       "    <tr>\n",
       "      <th>Jakarta Barat</th>\n",
       "      <td>250.000000</td>\n",
       "      <td>26000.000000</td>\n",
       "      <td>50.000000</td>\n",
       "    </tr>\n",
       "    <tr>\n",
       "      <th>Jakarta Selatan</th>\n",
       "      <td>100.000000</td>\n",
       "      <td>22320.000000</td>\n",
       "      <td>48.000000</td>\n",
       "    </tr>\n",
       "    <tr>\n",
       "      <th>Kab. Bogor</th>\n",
       "      <td>50.000000</td>\n",
       "      <td>10000.000000</td>\n",
       "      <td>48.000000</td>\n",
       "    </tr>\n",
       "    <tr>\n",
       "      <th>Tangerang Selatan</th>\n",
       "      <td>1366.666667</td>\n",
       "      <td>16333.333333</td>\n",
       "      <td>49.333333</td>\n",
       "    </tr>\n",
       "  </tbody>\n",
       "</table>\n",
       "</div>"
      ],
      "text/plain": [
       "                       Terjual         Harga  Rating Produk\n",
       "Kota Toko                                                  \n",
       "Jakarta Barat       250.000000  26000.000000      50.000000\n",
       "Jakarta Selatan     100.000000  22320.000000      48.000000\n",
       "Kab. Bogor           50.000000  10000.000000      48.000000\n",
       "Tangerang Selatan  1366.666667  16333.333333      49.333333"
      ]
     },
     "execution_count": 64,
     "metadata": {},
     "output_type": "execute_result"
    }
   ],
   "source": [
    "#Menampilkan data yang termasuk  Jabodetabek\n",
    "Jabodetabek"
   ]
  },
  {
   "cell_type": "code",
   "execution_count": null,
   "metadata": {},
   "outputs": [
    {
     "data": {
      "text/html": [
       "<div>\n",
       "<style scoped>\n",
       "    .dataframe tbody tr th:only-of-type {\n",
       "        vertical-align: middle;\n",
       "    }\n",
       "\n",
       "    .dataframe tbody tr th {\n",
       "        vertical-align: top;\n",
       "    }\n",
       "\n",
       "    .dataframe thead th {\n",
       "        text-align: right;\n",
       "    }\n",
       "</style>\n",
       "<table border=\"1\" class=\"dataframe\">\n",
       "  <thead>\n",
       "    <tr style=\"text-align: right;\">\n",
       "      <th></th>\n",
       "      <th>Terjual</th>\n",
       "      <th>Harga</th>\n",
       "      <th>Rating Produk</th>\n",
       "    </tr>\n",
       "    <tr>\n",
       "      <th>Kota Toko</th>\n",
       "      <th></th>\n",
       "      <th></th>\n",
       "      <th></th>\n",
       "    </tr>\n",
       "  </thead>\n",
       "  <tbody>\n",
       "    <tr>\n",
       "      <th>Bandung</th>\n",
       "      <td>2500.0</td>\n",
       "      <td>56220.0</td>\n",
       "      <td>48.5</td>\n",
       "    </tr>\n",
       "    <tr>\n",
       "      <th>Kab. Garut</th>\n",
       "      <td>250.0</td>\n",
       "      <td>35000.0</td>\n",
       "      <td>50.0</td>\n",
       "    </tr>\n",
       "    <tr>\n",
       "      <th>Tasikmalaya</th>\n",
       "      <td>29.0</td>\n",
       "      <td>61899.0</td>\n",
       "      <td>50.0</td>\n",
       "    </tr>\n",
       "  </tbody>\n",
       "</table>\n",
       "</div>"
      ],
      "text/plain": [
       "             Terjual    Harga  Rating Produk\n",
       "Kota Toko                                   \n",
       "Bandung       2500.0  56220.0           48.5\n",
       "Kab. Garut     250.0  35000.0           50.0\n",
       "Tasikmalaya     29.0  61899.0           50.0"
      ]
     },
     "execution_count": 61,
     "metadata": {},
     "output_type": "execute_result"
    }
   ],
   "source": [
    "#Menampilkan data yang tidak termasuk  Jabodetabek\n",
    "Non_Jabodetabek\n"
   ]
  },
  {
   "cell_type": "code",
   "execution_count": null,
   "metadata": {},
   "outputs": [
    {
     "name": "stdout",
     "output_type": "stream",
     "text": [
      "Penjualan bulanan dari Jabodetabek = 441.6666666666667\n",
      "Penjualan bulanan dari non Jabodetabek = 926.3333333333334\n"
     ]
    }
   ],
   "source": [
    "print('Penjualan bulanan dari Jabodetabek =',Jabodetabek['Terjual'].mean())\n",
    "print('Penjualan bulanan dari non Jabodetabek =',Non_Jabodetabek['Terjual'].mean())"
   ]
  },
  {
   "cell_type": "markdown",
   "metadata": {},
   "source": [
    "Penjualan bulanan dari Non jabodetabek lebih tinggi dibandingkan dengan Jabodetabek"
   ]
  },
  {
   "cell_type": "markdown",
   "metadata": {},
   "source": [
    "4. kecenderungan orang lebih suka produk yang mana dapat dilihat dengan analisis nilai korelasinya "
   ]
  },
  {
   "cell_type": "code",
   "execution_count": 32,
   "metadata": {},
   "outputs": [
    {
     "data": {
      "text/plain": [
       "<seaborn.axisgrid.FacetGrid at 0x191da4784f0>"
      ]
     },
     "execution_count": 32,
     "metadata": {},
     "output_type": "execute_result"
    },
    {
     "data": {
      "image/png": "[encoded data removed]",
      "text/plain": [
       "<Figure size 500x500 with 1 Axes>"
      ]
     },
     "metadata": {},
     "output_type": "display_data"
    }
   ],
   "source": [
    "sns.lmplot(data=df_seblak_clean,x='Terjual', y='Harga')"
   ]
  },
  {
   "cell_type": "code",
   "execution_count": 29,
   "metadata": {},
   "outputs": [
    {
     "name": "stdout",
     "output_type": "stream",
     "text": [
      "r-correlation: -0.15, p-value: 0.6912431815742092\n",
      "rho-correlation: -0.06, p-value: 0.8882331213937898\n",
      "tau-correlation: 0.00, p-value: 1.0\n"
     ]
    }
   ],
   "source": [
    "corr_r, pval_p = stats.pearsonr(df_seblak_clean['Terjual'], df_seblak_clean['Harga'])\n",
    "corr_rho, pval_s = stats.spearmanr(df_seblak_clean['Terjual'], df_seblak_clean['Harga'])\n",
    "corr_tau, pval_k = stats.kendalltau(df_seblak_clean['Terjual'], df_seblak_clean['Harga'])\n",
    "\n",
    "print(f\"r-correlation: {corr_r:.2f}, p-value: {pval_p}\")\n",
    "print(f\"rho-correlation: {corr_rho:.2f}, p-value: {pval_s}\")\n",
    "print(f\"tau-correlation: {corr_tau:.2f}, p-value: {pval_k}\")"
   ]
  },
  {
   "cell_type": "code",
   "execution_count": null,
   "metadata": {},
   "outputs": [
    {
     "name": "stdout",
     "output_type": "stream",
     "text": [
      "T-Statistic: -0.6409181432355424\n",
      "P-value: 0.5497931611696136\n"
     ]
    }
   ],
   "source": [
    "t_stat, p_val = stats.ttest_ind(Jabodetabek['Terjual'],Non_Jabodetabek['Terjual'])\n",
    "print('T-Statistic:',t_stat)\n",
    "print('P-value:',p_val)"
   ]
  },
  {
   "cell_type": "markdown",
   "metadata": {},
   "source": [
    "Orang cenderung lebih suka dengan produk dari luar Jabodetabek ,walaupun lebih mahal secara harga namun berisi lebih banyak item dibandingkan dengan beli item satuan."
   ]
  },
  {
   "cell_type": "markdown",
   "metadata": {},
   "source": [
    "## E.Conclusion / Kesimpulan"
   ]
  },
  {
   "cell_type": "markdown",
   "metadata": {},
   "source": [
    "Kesimpulan dari Analisis Penjualan bulanan daerah Jabodetabek dengan Wilayah diluar Jabodetabek dilihat adalah produk luar Jabodetabek lebih laku daripada produk Jabodetabek. Hal ini juga tergantung dari Rating dan Harga selain dari Produk yang Terjual."
   ]
  }
 ],
 "metadata": {
  "kernelspec": {
   "display_name": "base",
   "language": "python",
   "name": "python3"
  },
  "language_info": {
   "codemirror_mode": {
    "name": "ipython",
    "version": 3
   },
   "file_extension": ".py",
   "mimetype": "text/x-python",
   "name": "python",
   "nbconvert_exporter": "python",
   "pygments_lexer": "ipython3",
   "version": "3.9.18"
  }
 },
 "nbformat": 4,
 "nbformat_minor": 2
}
